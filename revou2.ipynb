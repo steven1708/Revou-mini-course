{
  "nbformat": 4,
  "nbformat_minor": 0,
  "metadata": {
    "colab": {
      "provenance": [],
      "authorship_tag": "ABX9TyNEenVLSE3HYMsXBdie8Rck",
      "include_colab_link": true
    },
    "kernelspec": {
      "name": "python3",
      "display_name": "Python 3"
    },
    "language_info": {
      "name": "python"
    }
  },
  "cells": [
    {
      "cell_type": "markdown",
      "metadata": {
        "id": "view-in-github",
        "colab_type": "text"
      },
      "source": [
        "<a href=\"https://colab.research.google.com/github/steven1708/Revou-mini-course/blob/main/revou2.ipynb\" target=\"_parent\"><img src=\"https://colab.research.google.com/assets/colab-badge.svg\" alt=\"Open In Colab\"/></a>"
      ]
    },
    {
      "cell_type": "markdown",
      "source": [
        "# Import the data set"
      ],
      "metadata": {
        "id": "8h0Mb1liCP2_"
      }
    },
    {
      "cell_type": "code",
      "execution_count": 269,
      "metadata": {
        "id": "kdN-qGkLBOeY"
      },
      "outputs": [],
      "source": [
        "import pandas as pd\n",
        "import numpy as np\n",
        "import matplotlib.pyplot as plt\n",
        "import seaborn as sns"
      ]
    },
    {
      "cell_type": "code",
      "source": [
        "df=pd.read_csv('amazon_prime_titles.csv')"
      ],
      "metadata": {
        "id": "1dRmm4v_B4eE"
      },
      "execution_count": 270,
      "outputs": []
    },
    {
      "cell_type": "code",
      "source": [
        "print(df.head())"
      ],
      "metadata": {
        "colab": {
          "base_uri": "https://localhost:8080/"
        },
        "id": "Y34JuzkxCCA2",
        "outputId": "4238a13f-bd6a-4c5e-8949-93400d1b95eb"
      },
      "execution_count": 271,
      "outputs": [
        {
          "output_type": "stream",
          "name": "stdout",
          "text": [
            "  show_id   type                 title        director  \\\n",
            "0      s1  Movie   The Grand Seduction    Don McKellar   \n",
            "1      s2  Movie  Take Care Good Night    Girish Joshi   \n",
            "2      s3  Movie  Secrets of Deception     Josh Webber   \n",
            "3      s4  Movie    Pink: Staying True  Sonia Anderson   \n",
            "4      s5  Movie         Monster Maker    Giles Foster   \n",
            "\n",
            "                                                cast         country  \\\n",
            "0     Brendan Gleeson, Taylor Kitsch, Gordon Pinsent          Canada   \n",
            "1   Mahesh Manjrekar, Abhay Mahajan, Sachin Khedekar           India   \n",
            "2  Tom Sizemore, Lorenzo Lamas, Robert LaSardo, R...   United States   \n",
            "3  Interviews with: Pink, Adele, Beyoncé, Britney...   United States   \n",
            "4  Harry Dean Stanton, Kieran O'Brien, George Cos...  United Kingdom   \n",
            "\n",
            "       date_added  release_year rating duration                listed_in  \\\n",
            "0  March 30, 2021          2014    NaN  113 min            Comedy, Drama   \n",
            "1  March 30, 2021          2018    13+  110 min     Drama, International   \n",
            "2  March 30, 2021          2017    NaN   74 min  Action, Drama, Suspense   \n",
            "3  March 30, 2021          2014    NaN   69 min              Documentary   \n",
            "4  March 30, 2021          1989    NaN   45 min           Drama, Fantasy   \n",
            "\n",
            "                                         description  \n",
            "0  A small fishing village must procure a local d...  \n",
            "1  A Metro Family decides to fight a Cyber Crimin...  \n",
            "2  After a man discovers his wife is cheating on ...  \n",
            "3  Pink breaks the mold once again, bringing her ...  \n",
            "4  Teenage Matt Banting wants to work with a famo...  \n"
          ]
        }
      ]
    },
    {
      "cell_type": "markdown",
      "source": [
        "# Data Cleaning\n"
      ],
      "metadata": {
        "id": "JhE4WKS1DTTQ"
      }
    },
    {
      "cell_type": "code",
      "source": [
        "df.info()"
      ],
      "metadata": {
        "colab": {
          "base_uri": "https://localhost:8080/"
        },
        "id": "x104Y5J_Dd51",
        "outputId": "ab0f388c-416d-494b-9b16-18e0bdd19f8f"
      },
      "execution_count": 272,
      "outputs": [
        {
          "output_type": "stream",
          "name": "stdout",
          "text": [
            "<class 'pandas.core.frame.DataFrame'>\n",
            "RangeIndex: 9668 entries, 0 to 9667\n",
            "Data columns (total 12 columns):\n",
            " #   Column        Non-Null Count  Dtype \n",
            "---  ------        --------------  ----- \n",
            " 0   show_id       9668 non-null   object\n",
            " 1   type          9668 non-null   object\n",
            " 2   title         9668 non-null   object\n",
            " 3   director      7586 non-null   object\n",
            " 4   cast          8435 non-null   object\n",
            " 5   country       672 non-null    object\n",
            " 6   date_added    155 non-null    object\n",
            " 7   release_year  9668 non-null   int64 \n",
            " 8   rating        9331 non-null   object\n",
            " 9   duration      9668 non-null   object\n",
            " 10  listed_in     9668 non-null   object\n",
            " 11  description   9668 non-null   object\n",
            "dtypes: int64(1), object(11)\n",
            "memory usage: 906.5+ KB\n"
          ]
        }
      ]
    },
    {
      "cell_type": "markdown",
      "source": [
        "# 1.Data Type"
      ],
      "metadata": {
        "id": "j4XyJniZKNHp"
      }
    },
    {
      "cell_type": "markdown",
      "source": [
        "data type duration seharusnya int"
      ],
      "metadata": {
        "id": "0chs5GRUKd0a"
      }
    },
    {
      "cell_type": "code",
      "source": [
        "min=[]\n",
        "season=[]\n",
        "\n",
        "for row in df['duration']:\n",
        "  x=row.split(' ')\n",
        "  if x[1] =='min':\n",
        "    min.append(x[0])\n",
        "    season.append(np.nan)\n",
        "  elif x[1]=='Seasons':\n",
        "      season.append(x[0])\n",
        "      min.append(np.nan)\n",
        "  elif x[1]=='Season':\n",
        "      season.append(x[0])\n",
        "      min.append(np.nan) \n",
        "\n",
        "print('done')\n",
        "print(season)\n"
      ],
      "metadata": {
        "colab": {
          "base_uri": "https://localhost:8080/"
        },
        "id": "X_cNXTwRJ8UH",
        "outputId": "536db4c3-86e9-4994-a764-fbc36b21e79e"
      },
      "execution_count": 273,
      "outputs": [
        {
          "output_type": "stream",
          "name": "stdout",
          "text": [
            "done\n",
            "[nan, nan, nan, nan, nan, nan, nan, nan, nan, nan, nan, nan, nan, nan, nan, nan, nan, '1', '1', nan, '1', '1', nan, '1', nan, nan, '1', '1', '3', '3', '2', '1', nan, nan, nan, '1', nan, nan, nan, nan, nan, nan, '1', nan, nan, nan, nan, nan, nan, nan, nan, nan, nan, '1', nan, nan, '1', '2', '1', nan, nan, '1', nan, '3', '1', '1', '1', '1', nan, '1', nan, '1', '1', nan, '1', '1', nan, nan, '1', nan, nan, nan, nan, nan, '4', '1', '1', '1', nan, nan, nan, nan, nan, nan, nan, nan, nan, nan, '3', nan, '1', '1', nan, nan, '1', nan, '1', nan, nan, nan, nan, nan, '4', nan, nan, '1', nan, nan, nan, nan, nan, nan, nan, nan, nan, nan, nan, nan, '1', '1', '1', '1', nan, nan, '1', nan, nan, '1', '2', nan, '1', nan, nan, nan, nan, '1', nan, nan, nan, '1', nan, nan, nan, nan, nan, nan, nan, '1', '1', nan, nan, nan, '1', '1', nan, nan, nan, nan, nan, '7', '1', '1', nan, nan, nan, nan, '2', nan, nan, nan, nan, nan, nan, '1', nan, '9', nan, '1', '1', nan, '1', '1', nan, nan, '1', '1', nan, '1', '1', nan, nan, nan, nan, nan, nan, nan, '1', nan, nan, nan, nan, '1', '1', nan, nan, '3', '1', nan, nan, nan, nan, nan, nan, '1', nan, nan, '1', nan, nan, '2', '2', nan, '1', nan, nan, nan, nan, nan, nan, nan, '2', '1', '1', nan, nan, nan, nan, '1', '1', nan, nan, '6', nan, '1', nan, '1', nan, nan, nan, nan, '2', nan, nan, nan, nan, '6', '2', '2', nan, '5', nan, nan, '1', nan, nan, nan, nan, nan, '1', nan, nan, '6', '6', nan, nan, '1', nan, '1', '1', '1', '1', '1', '1', '1', nan, nan, nan, '1', '2', nan, '1', '4', nan, nan, nan, nan, nan, nan, '1', '2', nan, '1', '1', '1', nan, '2', nan, '1', nan, '1', nan, nan, nan, nan, nan, nan, '2', '2', '5', '1', '1', '1', nan, nan, nan, nan, nan, nan, nan, nan, nan, nan, nan, '4', nan, nan, nan, nan, nan, '2', nan, nan, nan, nan, nan, nan, nan, nan, nan, '1', '7', '1', '1', '1', nan, nan, nan, nan, nan, nan, '1', '1', nan, nan, nan, nan, nan, '2', nan, nan, nan, nan, '1', nan, nan, nan, nan, nan, '1', '1', nan, nan, '1', nan, nan, '1', nan, nan, nan, nan, nan, '1', nan, '1', '1', nan, nan, '1', nan, '1', '1', '3', nan, nan, nan, '1', '1', '1', '2', '2', '1', '1', '1', '1', nan, nan, nan, nan, nan, '1', nan, nan, nan, nan, '1', nan, '5', nan, nan, nan, nan, nan, '1', nan, nan, '1', '1', '1', nan, '1', nan, nan, nan, nan, '1', nan, nan, '4', nan, nan, '4', '4', nan, nan, '1', nan, '1', nan, nan, '1', '1', nan, nan, nan, nan, '1', nan, '1', nan, '1', nan, nan, nan, nan, '1', nan, nan, nan, nan, nan, '1', nan, nan, '2', '1', nan, nan, nan, nan, nan, nan, nan, nan, '2', nan, nan, '1', '1', nan, '1', nan, nan, nan, '1', '5', '1', '1', nan, '2', '1', nan, '1', nan, nan, nan, '3', '1', nan, nan, '1', nan, nan, nan, nan, nan, '2', nan, nan, '2', nan, '1', '1', '3', nan, nan, nan, '4', nan, nan, nan, nan, nan, nan, '3', '1', nan, nan, nan, nan, nan, '1', nan, nan, '1', nan, nan, nan, nan, nan, '1', nan, nan, '1', '1', '1', nan, nan, nan, nan, nan, nan, nan, nan, nan, '2', nan, nan, nan, nan, '1', '1', nan, '1', nan, nan, nan, nan, nan, nan, '4', nan, nan, '1', nan, '1', '3', nan, nan, '1', nan, nan, '1', nan, '1', nan, '3', nan, nan, '2', nan, nan, '1', nan, nan, nan, '1', '1', nan, nan, '1', nan, nan, nan, nan, '1', '1', '2', '4', nan, nan, nan, '2', nan, nan, '1', '1', nan, nan, '4', nan, nan, '5', '1', '1', nan, nan, nan, '1', nan, '1', '1', nan, nan, '1', '7', nan, nan, nan, nan, nan, '3', '1', '1', nan, nan, nan, '5', '1', '1', '1', nan, nan, '1', nan, nan, nan, nan, '4', nan, nan, nan, '1', nan, nan, nan, nan, '1', nan, '1', '1', nan, nan, nan, nan, nan, nan, nan, nan, nan, nan, nan, nan, nan, nan, nan, nan, nan, nan, nan, nan, nan, '1', '1', nan, nan, nan, nan, nan, nan, nan, '2', '1', '1', '7', nan, nan, nan, nan, nan, nan, nan, nan, '1', '1', '1', '5', nan, nan, nan, nan, nan, nan, nan, '2', '1', nan, nan, nan, nan, nan, nan, nan, nan, nan, '6', '1', '1', '1', '1', '1', '29', nan, '1', nan, nan, '5', '3', nan, '2', nan, nan, nan, nan, nan, nan, nan, '1', nan, nan, nan, nan, nan, nan, '1', nan, '1', '1', nan, nan, nan, '9', nan, '1', '1', nan, '3', nan, nan, '5', nan, '1', nan, nan, nan, '1', nan, nan, nan, nan, '1', nan, '2', nan, nan, nan, nan, nan, nan, nan, nan, nan, nan, nan, '1', nan, nan, '1', '2', '5', nan, '19', '1', '5', '1', '2', '1', nan, '3', nan, nan, nan, nan, nan, nan, nan, nan, nan, '1', '1', nan, nan, nan, nan, '2', nan, nan, '1', '9', nan, nan, nan, '3', nan, nan, '1', nan, nan, nan, '1', '1', nan, nan, nan, '1', '1', '1', '1', nan, nan, nan, nan, nan, nan, '2', nan, nan, nan, '1', nan, nan, nan, nan, nan, '1', '1', '7', '7', '4', '7', '3', '3', nan, '1', nan, nan, nan, nan, nan, nan, nan, nan, '6', '1', '2', nan, nan, '1', '1', nan, '2', nan, nan, nan, nan, nan, nan, nan, '1', '3', nan, nan, nan, nan, nan, nan, nan, nan, nan, nan, nan, '1', nan, nan, nan, nan, nan, nan, '1', nan, nan, nan, nan, '2', '1', '1', '3', nan, nan, nan, nan, nan, '1', '2', nan, nan, nan, nan, nan, nan, nan, '1', nan, nan, nan, '1', nan, nan, nan, '6', nan, nan, '1', nan, nan, nan, nan, nan, nan, nan, nan, nan, '1', nan, nan, nan, '1', '3', '21', nan, nan, nan, nan, '1', '1', nan, nan, nan, nan, nan, '1', '1', nan, '4', nan, '1', nan, nan, nan, '1', nan, nan, '1', '6', nan, nan, nan, nan, nan, nan, nan, '1', '1', nan, '1', nan, nan, nan, nan, nan, '1', '1', '1', '1', nan, '1', nan, nan, '1', nan, nan, '2', nan, nan, '1', '1', nan, '1', nan, '1', '1', nan, '3', nan, '1', nan, '1', nan, nan, nan, '1', nan, '9', '1', '5', nan, '1', nan, '1', '1', '4', nan, nan, nan, nan, nan, nan, nan, '1', nan, nan, nan, nan, nan, '1', nan, nan, nan, nan, nan, '2', nan, nan, nan, nan, nan, nan, nan, '1', nan, '1', nan, nan, nan, '1', nan, nan, '4', nan, '1', '3', nan, '1', nan, '1', nan, '1', nan, nan, nan, '1', '1', nan, '2', nan, nan, nan, '1', nan, nan, '1', nan, nan, nan, nan, nan, nan, '4', '1', '1', '1', '1', nan, '1', nan, nan, '2', nan, '1', '1', nan, nan, '2', nan, nan, nan, '1', '1', nan, nan, '3', '1', nan, nan, nan, nan, nan, nan, '1', nan, nan, nan, '1', '3', nan, nan, nan, nan, '1', '1', nan, '1', '2', '1', nan, '1', '1', '1', nan, nan, nan, nan, nan, nan, nan, '1', nan, '1', '1', '1', nan, nan, '1', nan, nan, nan, '1', nan, nan, '1', nan, '2', nan, '1', '1', '1', '1', '2', '2', '2', nan, nan, nan, nan, '1', '2', '1', '1', '3', '1', '8', '1', nan, nan, '2', nan, nan, nan, '1', nan, '1', '1', nan, '1', '1', '1', '2', '1', '1', nan, nan, '1', nan, '3', nan, nan, '1', nan, nan, nan, nan, nan, nan, nan, nan, nan, '1', '5', '4', '2', nan, '1', nan, '1', nan, '1', nan, '1', nan, '1', nan, '1', '1', '1', '1', '1', '2', '2', '2', '1', '3', '1', '1', '1', '2', nan, '2', '2', '1', '2', '1', '2', '1', '1', '1', '1', '3', '1', '1', '2', '1', nan, nan, '6', '1', '1', nan, '1', '1', nan, nan, nan, '1', nan, nan, nan, '2', '1', nan, nan, nan, '1', '1', '1', '1', nan, nan, nan, '1', '12', nan, '1', '1', nan, nan, '2', '1', '1', nan, nan, '1', nan, nan, nan, '1', '6', nan, nan, nan, '1', '1', nan, nan, nan, nan, nan, nan, '1', '2', nan, '1', '1', '1', nan, nan, nan, nan, nan, '1', nan, nan, '1', nan, '1', nan, nan, nan, '2', nan, '2', '5', nan, nan, '3', '1', nan, nan, nan, nan, '5', '2', '1', nan, nan, nan, nan, nan, nan, '1', nan, nan, nan, nan, nan, nan, nan, nan, nan, '2', nan, nan, nan, nan, '2', nan, nan, nan, '1', nan, '1', '2', '1', nan, nan, nan, nan, nan, nan, nan, nan, nan, '5', nan, nan, nan, nan, nan, '1', '1', '1', '1', nan, nan, nan, nan, nan, nan, nan, nan, nan, nan, nan, nan, '3', nan, nan, nan, nan, nan, nan, '1', nan, nan, nan, nan, nan, nan, nan, nan, nan, '1', '1', '1', nan, '1', nan, nan, nan, nan, nan, nan, nan, nan, nan, '1', nan, nan, nan, nan, nan, nan, nan, nan, nan, '1', nan, nan, nan, nan, '1', '1', nan, nan, nan, nan, '1', nan, nan, nan, '1', '1', nan, '1', nan, nan, nan, nan, '1', nan, nan, '4', '11', nan, '1', '1', '1', nan, nan, nan, '1', nan, nan, nan, nan, nan, '1', '5', '2', nan, nan, nan, '2', nan, nan, nan, '1', nan, '4', nan, '3', nan, nan, '8', '1', '1', '1', nan, '4', nan, nan, nan, nan, nan, nan, nan, '2', nan, '1', nan, nan, nan, nan, nan, nan, nan, nan, nan, nan, nan, nan, nan, nan, nan, nan, nan, nan, nan, '3', nan, nan, nan, nan, '4', nan, nan, '1', nan, nan, '1', '1', '1', '2', '1', '2', '2', '2', '3', '2', '2', '1', nan, '6', '1', nan, '1', '1', nan, '1', nan, nan, nan, '1', '2', '1', nan, nan, nan, nan, nan, '1', nan, '1', '1', nan, '1', nan, nan, nan, nan, nan, '1', nan, nan, nan, nan, nan, nan, nan, '1', nan, nan, nan, '1', '1', nan, nan, '5', nan, '1', '1', nan, '1', nan, nan, nan, nan, '3', nan, nan, nan, nan, nan, nan, nan, nan, '1', '1', nan, nan, nan, nan, nan, nan, nan, nan, nan, '3', nan, nan, nan, nan, nan, nan, nan, '1', nan, nan, nan, '1', nan, nan, '3', '1', nan, nan, nan, nan, '1', nan, nan, nan, nan, '1', nan, '1', '1', nan, nan, nan, '1', nan, nan, nan, nan, nan, nan, '1', nan, nan, nan, nan, nan, nan, nan, nan, nan, '1', '1', '1', '1', '1', nan, '1', nan, nan, '1', '1', nan, nan, nan, nan, '1', '1', nan, nan, nan, nan, '1', nan, nan, nan, nan, nan, nan, nan, nan, nan, nan, nan, nan, nan, '1', nan, nan, '1', '1', '1', nan, nan, nan, '1', '2', nan, nan, nan, '1', '2', nan, '2', '1', nan, nan, '1', '2', nan, nan, '2', '1', '1', nan, nan, nan, nan, nan, nan, nan, '2', '4', '2', nan, nan, '2', '1', '3', nan, '2', nan, nan, nan, nan, nan, nan, nan, nan, nan, nan, '1', '1', nan, nan, nan, nan, '1', '1', '1', nan, '4', nan, nan, '1', nan, nan, nan, nan, nan, '1', nan, nan, '1', nan, '1', '1', nan, '1', '1', '1', nan, nan, nan, nan, '1', nan, nan, nan, nan, nan, nan, '1', nan, nan, nan, '1', nan, '1', nan, nan, '1', nan, nan, nan, nan, '1', nan, '2', '2', '2', '1', '1', nan, '2', '1', nan, nan, nan, '1', '1', '1', nan, nan, nan, '2', nan, nan, '1', nan, nan, '1', nan, nan, '1', '1', '1', nan, nan, nan, nan, nan, '1', '1', nan, nan, nan, nan, nan, nan, nan, nan, nan, '4', '1', nan, nan, nan, '1', nan, '1', nan, nan, nan, nan, nan, nan, nan, '1', nan, '1', '1', nan, nan, nan, nan, nan, nan, nan, nan, nan, nan, nan, nan, nan, '1', '5', nan, nan, nan, '1', '1', '1', nan, nan, nan, nan, nan, nan, nan, nan, nan, nan, '1', nan, nan, nan, nan, nan, nan, nan, nan, '1', nan, '1', '1', nan, nan, '1', '1', '1', '1', '1', nan, nan, nan, nan, '1', '1', nan, nan, '1', nan, nan, '1', nan, nan, nan, nan, nan, nan, nan, nan, '1', nan, '1', nan, nan, nan, nan, nan, nan, nan, nan, '2', '1', '1', '1', '3', nan, nan, nan, nan, nan, nan, nan, nan, nan, nan, nan, nan, nan, nan, nan, nan, nan, nan, nan, nan, nan, nan, '1', '1', '1', '1', nan, '1', '1', nan, nan, nan, nan, '2', nan, '1', nan, '1', nan, '2', '1', '1', nan, '1', '1', nan, nan, nan, nan, nan, nan, nan, nan, nan, nan, '1', nan, nan, nan, nan, nan, nan, nan, nan, '1', '1', nan, nan, nan, nan, nan, nan, nan, nan, nan, nan, '1', nan, '1', '1', nan, '1', '3', nan, nan, nan, '1', nan, nan, nan, nan, nan, nan, nan, '2', nan, '8', nan, '1', '3', '1', '4', '2', nan, '3', nan, nan, nan, '1', nan, nan, '10', nan, '1', nan, nan, nan, nan, '1', nan, nan, nan, nan, '3', '1', nan, nan, nan, nan, nan, '1', '1', '2', nan, nan, '2', '2', nan, nan, nan, '1', '5', '1', '1', '1', nan, nan, nan, nan, nan, nan, nan, nan, nan, nan, nan, nan, nan, nan, '6', nan, nan, nan, nan, nan, nan, nan, nan, nan, nan, '1', nan, nan, nan, '1', nan, nan, nan, '1', '1', '1', nan, nan, nan, nan, nan, '1', nan, '1', nan, nan, nan, nan, '1', nan, nan, nan, nan, nan, nan, '2', '2', nan, '2', '3', nan, '4', nan, '3', nan, nan, nan, nan, nan, '1', '1', nan, '1', '10', '3', '1', '1', nan, '1', '6', nan, nan, nan, nan, nan, nan, '1', '1', '6', '5', '1', '1', '1', '1', nan, nan, '2', '3', nan, nan, '2', nan, nan, '1', nan, '1', nan, '1', nan, '2', nan, '1', nan, '1', '1', nan, nan, nan, nan, nan, nan, nan, nan, nan, nan, '1', nan, '7', nan, nan, nan, '1', nan, nan, nan, '1', '2', nan, nan, nan, '1', nan, nan, nan, '1', nan, '1', nan, '1', nan, nan, nan, nan, nan, '3', nan, nan, nan, nan, nan, nan, nan, '1', nan, nan, nan, nan, nan, nan, nan, '1', nan, nan, nan, nan, nan, nan, '1', '2', '1', '1', '1', '1', nan, nan, nan, nan, nan, nan, nan, nan, nan, nan, nan, '1', nan, nan, '3', nan, nan, nan, nan, '1', '1', nan, '1', '1', '3', '1', nan, nan, '1', nan, '4', '4', nan, nan, nan, '1', nan, nan, '1', nan, nan, nan, nan, '2', nan, nan, nan, '1', nan, nan, nan, '1', '1', nan, nan, '1', '1', '1', nan, '3', nan, nan, '1', '1', '1', '3', '1', '1', nan, nan, nan, '2', nan, '1', nan, nan, nan, '5', '8', '1', nan, nan, nan, nan, nan, '1', nan, '1', nan, nan, nan, nan, nan, '2', nan, nan, nan, '1', '1', '1', '1', '2', '1', nan, nan, nan, '1', nan, '1', nan, nan, '4', nan, '2', '1', '1', nan, nan, '2', nan, nan, '1', '1', '3', '1', nan, nan, nan, nan, nan, nan, nan, nan, nan, nan, nan, nan, nan, '3', nan, nan, nan, nan, nan, '3', '5', nan, nan, nan, nan, '1', nan, nan, nan, nan, nan, '1', '7', nan, nan, nan, '2', nan, '1', nan, nan, nan, nan, nan, nan, '1', '1', '1', nan, nan, nan, '1', nan, '1', nan, nan, nan, '1', '1', '1', nan, nan, nan, nan, nan, nan, nan, '1', '1', '1', nan, '1', nan, nan, nan, nan, nan, nan, nan, nan, nan, '1', nan, nan, nan, '1', '1', nan, nan, nan, nan, '1', '1', nan, '1', nan, nan, nan, '6', '2', nan, nan, nan, nan, nan, nan, nan, '1', '2', nan, nan, nan, nan, nan, nan, nan, '2', '1', nan, nan, nan, nan, nan, nan, nan, nan, '1', '2', nan, nan, nan, nan, nan, nan, nan, nan, '1', '1', nan, nan, nan, nan, '4', '4', nan, '1', nan, nan, '1', '1', nan, nan, nan, nan, nan, '2', nan, nan, nan, '8', nan, nan, '1', '1', '1', nan, '1', nan, '1', nan, nan, nan, '2', nan, nan, nan, nan, nan, '5', nan, nan, nan, nan, nan, '1', nan, '1', nan, nan, '1', '5', nan, nan, nan, nan, nan, nan, '1', '6', '1', nan, nan, nan, nan, '1', '1', '1', '1', nan, '3', nan, nan, '1', nan, nan, '1', nan, nan, nan, nan, nan, nan, nan, nan, nan, '1', nan, nan, '1', '1', '1', nan, '1', '1', nan, nan, '1', nan, '1', nan, '1', '1', nan, nan, '3', nan, '1', '3', nan, '1', nan, nan, nan, '1', nan, nan, nan, nan, '2', '2', '2', '6', '1', '3', nan, '1', '2', nan, nan, nan, nan, '1', nan, nan, nan, nan, '1', '1', nan, nan, nan, '1', '1', '6', nan, nan, '1', '2', nan, nan, '1', nan, nan, nan, '1', nan, '2', nan, '1', nan, nan, nan, nan, nan, nan, nan, '3', '6', '5', '1', nan, nan, nan, '1', nan, nan, nan, nan, nan, nan, nan, nan, nan, '5', nan, nan, nan, nan, nan, nan, nan, nan, nan, '1', '1', '1', nan, '1', nan, nan, nan, nan, nan, nan, nan, '1', nan, '1', '2', nan, nan, nan, nan, nan, '2', nan, nan, nan, nan, nan, nan, '1', '1', nan, nan, nan, '1', '1', nan, nan, nan, nan, '2', '1', '1', '1', '1', '3', '1', '1', '1', '1', nan, nan, '4', nan, nan, nan, nan, '1', nan, nan, '1', '1', '1', '1', '3', '1', '2', nan, nan, nan, nan, nan, nan, '1', nan, '1', nan, nan, nan, '2', '1', nan, '1', '4', '1', nan, nan, nan, nan, nan, nan, '1', '5', '8', nan, '1', '1', '1', '1', '3', '7', nan, nan, nan, nan, nan, nan, nan, nan, nan, '1', '1', '2', nan, nan, nan, nan, nan, nan, nan, nan, nan, '1', '1', nan, nan, '1', nan, nan, nan, '1', nan, '1', nan, nan, nan, nan, nan, '1', nan, nan, nan, nan, nan, nan, nan, '3', nan, nan, nan, nan, '4', '1', '1', nan, '1', '1', '12', nan, '2', nan, '7', nan, nan, nan, nan, nan, '1', '3', nan, nan, '1', '3', nan, nan, nan, nan, nan, nan, nan, nan, '1', nan, '1', nan, nan, nan, '1', nan, '1', '1', nan, nan, '1', nan, '1', nan, nan, nan, nan, nan, nan, nan, nan, nan, nan, nan, nan, nan, nan, nan, nan, nan, nan, nan, '6', nan, nan, '1', nan, nan, nan, '1', nan, nan, '1', nan, '1', '1', '1', '1', nan, nan, '1', nan, nan, nan, nan, nan, nan, '1', nan, nan, '1', '1', '4', '1', '1', '1', nan, nan, nan, nan, nan, nan, nan, nan, nan, nan, nan, nan, '1', nan, nan, '1', '1', nan, nan, nan, nan, '6', nan, nan, nan, nan, nan, '1', nan, '1', nan, '1', nan, nan, '1', nan, nan, nan, '1', nan, '1', '1', nan, nan, nan, '1', nan, '2', nan, '10', nan, nan, nan, '1', '1', '2', nan, '1', nan, '1', '1', '2', '1', '1', nan, nan, nan, nan, nan, nan, '2', nan, nan, nan, nan, nan, nan, nan, '1', '1', nan, '1', '1', nan, nan, nan, nan, '1', nan, nan, '2', '1', nan, '3', nan, nan, nan, nan, nan, nan, '1', nan, nan, '2', '1', '2', nan, nan, nan, nan, '1', nan, '1', nan, nan, nan, nan, nan, nan, nan, nan, nan, nan, nan, nan, nan, '1', nan, nan, nan, nan, nan, nan, nan, nan, '1', nan, nan, nan, nan, nan, nan, '1', '4', '1', nan, nan, nan, '2', '4', '1', nan, nan, nan, '5', nan, '3', nan, nan, nan, nan, nan, nan, '8', nan, nan, nan, '3', nan, '1', '3', nan, nan, nan, nan, '1', '1', '3', '1', '1', '1', '1', nan, nan, nan, nan, nan, nan, nan, nan, nan, '1', nan, '1', '14', '1', '1', '1', '2', nan, nan, nan, nan, '1', nan, nan, nan, '2', nan, '1', nan, '2', nan, nan, nan, '1', nan, '2', nan, '2', nan, nan, nan, '1', '1', '1', '1', '1', '5', '5', nan, nan, '1', nan, '1', nan, '1', '1', '5', nan, nan, nan, '1', '1', nan, nan, nan, nan, nan, nan, '1', '1', '1', '1', nan, '1', nan, '4', nan, nan, '1', '1', '1', nan, nan, '3', nan, nan, nan, nan, nan, nan, nan, '1', nan, nan, nan, nan, nan, nan, nan, nan, '1', nan, nan, nan, nan, nan, nan, nan, nan, nan, '1', nan, '1', nan, nan, nan, nan, nan, nan, '1', nan, '1', nan, nan, nan, nan, nan, '1', nan, nan, nan, '1', nan, nan, nan, nan, nan, nan, nan, nan, '1', '3', nan, nan, nan, nan, nan, '1', nan, nan, nan, nan, nan, nan, nan, nan, nan, nan, nan, nan, nan, nan, nan, '1', nan, nan, nan, nan, nan, nan, nan, nan, nan, '1', nan, nan, nan, nan, nan, nan, nan, nan, nan, '2', '2', nan, nan, nan, nan, nan, nan, nan, nan, nan, nan, nan, nan, nan, nan, nan, '1', '1', nan, nan, nan, '1', '1', nan, '2', '8', nan, '1', nan, '1', '1', '1', '1', '1', '1', '1', '1', '1', '1', '1', '1', '1', nan, nan, nan, nan, nan, nan, nan, nan, nan, nan, nan, nan, nan, nan, nan, nan, nan, nan, nan, nan, nan, nan, nan, nan, nan, nan, nan, nan, nan, nan, nan, nan, nan, nan, nan, nan, nan, nan, nan, nan, nan, nan, nan, nan, nan, nan, nan, nan, nan, nan, nan, nan, nan, nan, '1', nan, nan, nan, '1', nan, nan, '1', nan, nan, '1', '1', '9', '1', '4', nan, nan, nan, nan, nan, nan, nan, nan, nan, nan, nan, nan, nan, nan, nan, nan, nan, nan, nan, nan, nan, nan, nan, nan, '4', nan, nan, nan, nan, nan, nan, nan, nan, nan, nan, '1', nan, nan, nan, nan, nan, nan, nan, nan, nan, nan, nan, '1', '1', nan, nan, nan, nan, nan, nan, nan, nan, nan, nan, nan, nan, nan, nan, nan, nan, nan, nan, nan, nan, nan, nan, nan, nan, nan, nan, nan, nan, nan, '2', nan, nan, nan, nan, nan, nan, nan, nan, nan, nan, nan, nan, nan, nan, nan, nan, nan, nan, nan, nan, nan, nan, nan, nan, nan, nan, nan, nan, nan, nan, nan, '1', nan, nan, nan, nan, nan, nan, nan, nan, nan, nan, nan, nan, nan, nan, nan, nan, nan, nan, nan, nan, nan, nan, nan, nan, nan, nan, nan, nan, nan, nan, nan, nan, nan, nan, nan, nan, nan, nan, nan, nan, nan, nan, nan, nan, nan, nan, nan, nan, nan, nan, nan, nan, nan, nan, nan, nan, nan, nan, nan, nan, nan, nan, nan, nan, nan, nan, nan, nan, nan, nan, nan, nan, nan, nan, nan, nan, nan, nan, nan, nan, nan, nan, nan, nan, nan, nan, nan, nan, nan, nan, nan, nan, nan, nan, nan, nan, nan, nan, nan, nan, nan, nan, nan, nan, nan, nan, nan, nan, nan, nan, nan, nan, nan, nan, nan, nan, nan, nan, nan, nan, nan, nan, nan, nan, nan, nan, nan, nan, nan, nan, nan, nan, nan, nan, nan, nan, nan, nan, nan, nan, nan, nan, nan, nan, nan, nan, nan, nan, nan, nan, nan, nan, nan, nan, nan, nan, nan, nan, nan, nan, nan, nan, nan, nan, nan, nan, nan, nan, nan, nan, nan, nan, nan, nan, nan, nan, nan, nan, nan, nan, nan, nan, nan, nan, nan, nan, nan, nan, nan, nan, nan, nan, nan, nan, nan, nan, nan, nan, nan, nan, nan, nan, nan, nan, nan, nan, nan, nan, nan, nan, nan, nan, nan, nan, nan, nan, nan, nan, nan, nan, nan, nan, nan, nan, nan, nan, nan, nan, nan, nan, nan, nan, nan, nan, nan, nan, nan, nan, nan, nan, nan, nan, nan, nan, nan, nan, nan, nan, nan, nan, nan, nan, nan, nan, nan, nan, nan, nan, nan, nan, nan, nan, nan, nan, nan, nan, nan, nan, nan, nan, nan, nan, nan, nan, nan, nan, nan, nan, nan, nan, nan, nan, nan, nan, nan, nan, nan, nan, nan, nan, nan, nan, nan, nan, nan, nan, nan, nan, nan, nan, nan, nan, nan, '3', nan, nan, nan, nan, nan, nan, nan, nan, nan, nan, nan, nan, nan, nan, nan, '1', nan, nan, nan, nan, nan, nan, nan, nan, nan, nan, nan, nan, nan, nan, nan, nan, nan, nan, nan, nan, nan, nan, nan, nan, nan, nan, nan, nan, nan, nan, nan, nan, nan, nan, nan, nan, nan, nan, nan, nan, nan, nan, nan, nan, nan, nan, nan, nan, nan, nan, nan, nan, nan, nan, nan, nan, nan, nan, nan, nan, nan, nan, nan, nan, '1', nan, nan, nan, nan, nan, nan, nan, nan, nan, nan, nan, nan, nan, nan, nan, nan, nan, nan, nan, nan, nan, nan, nan, nan, nan, nan, '1', nan, nan, nan, nan, nan, nan, nan, '1', nan, nan, nan, nan, nan, nan, nan, nan, nan, nan, nan, nan, nan, nan, nan, nan, nan, nan, nan, nan, '14', nan, nan, nan, nan, nan, nan, nan, nan, nan, nan, nan, '1', nan, nan, nan, nan, nan, nan, nan, nan, nan, nan, nan, nan, nan, nan, nan, nan, nan, nan, nan, nan, nan, nan, nan, nan, nan, nan, nan, nan, nan, nan, nan, nan, nan, nan, nan, nan, nan, nan, nan, nan, nan, nan, nan, nan, nan, nan, nan, nan, nan, nan, nan, '3', nan, nan, nan, nan, nan, nan, nan, nan, nan, nan, nan, nan, nan, nan, nan, nan, '1', '1', nan, nan, nan, nan, nan, nan, nan, nan, '1', nan, nan, nan, nan, nan, nan, nan, nan, nan, nan, nan, nan, nan, nan, nan, nan, nan, '1', nan, nan, nan, nan, nan, nan, nan, nan, nan, nan, nan, nan, nan, nan, nan, nan, nan, nan, nan, nan, nan, nan, nan, nan, '1', nan, nan, nan, nan, nan, nan, nan, nan, nan, nan, nan, nan, nan, nan, nan, nan, nan, nan, nan, nan, nan, nan, nan, nan, nan, nan, nan, nan, nan, nan, nan, nan, nan, nan, nan, nan, nan, nan, nan, nan, nan, nan, nan, nan, nan, nan, nan, nan, nan, nan, nan, nan, nan, nan, nan, nan, nan, nan, nan, nan, nan, nan, nan, nan, nan, nan, '1', nan, nan, '1', nan, nan, nan, nan, nan, nan, '1', nan, nan, nan, nan, nan, nan, nan, nan, nan, nan, nan, nan, nan, nan, nan, nan, nan, nan, nan, nan, nan, nan, nan, nan, '1', nan, nan, nan, nan, '1', nan, nan, nan, nan, nan, nan, nan, nan, nan, nan, nan, nan, nan, nan, nan, nan, nan, nan, nan, nan, nan, nan, nan, nan, nan, nan, nan, nan, '1', nan, nan, nan, nan, nan, nan, nan, nan, nan, nan, nan, nan, nan, nan, '1', nan, nan, nan, nan, nan, nan, nan, nan, '1', '1', nan, nan, nan, '2', nan, nan, nan, nan, nan, nan, nan, nan, nan, nan, nan, nan, nan, '1', nan, nan, nan, nan, nan, nan, nan, nan, nan, nan, nan, nan, nan, nan, nan, nan, nan, '1', nan, '1', nan, nan, nan, '5', nan, nan, '1', nan, nan, '1', nan, nan, nan, nan, nan, nan, nan, '3', nan, nan, nan, nan, nan, nan, nan, nan, nan, '1', nan, nan, nan, '2', nan, nan, nan, nan, '4', nan, nan, nan, nan, nan, nan, nan, nan, nan, nan, nan, nan, nan, nan, nan, nan, nan, nan, nan, nan, nan, nan, nan, nan, nan, nan, nan, nan, nan, nan, nan, nan, nan, nan, nan, nan, nan, nan, nan, nan, nan, nan, nan, nan, nan, nan, nan, nan, nan, nan, '1', nan, nan, nan, nan, nan, nan, nan, nan, nan, nan, nan, nan, '1', nan, nan, nan, nan, nan, nan, nan, nan, nan, '1', nan, nan, nan, nan, nan, nan, nan, nan, nan, nan, nan, nan, '1', nan, nan, nan, nan, nan, nan, '1', nan, nan, nan, nan, nan, nan, nan, nan, nan, nan, nan, nan, nan, nan, nan, nan, nan, nan, '1', nan, nan, nan, nan, nan, nan, nan, nan, '1', nan, nan, nan, nan, '1', nan, nan, nan, nan, nan, nan, nan, nan, nan, nan, nan, nan, nan, nan, nan, nan, nan, nan, nan, nan, nan, nan, nan, nan, nan, nan, '3', nan, '2', nan, nan, nan, nan, nan, nan, nan, nan, nan, nan, nan, '1', '1', nan, nan, '1', nan, nan, nan, nan, nan, nan, '1', nan, nan, nan, nan, nan, nan, nan, nan, nan, nan, nan, nan, nan, nan, nan, nan, nan, nan, nan, nan, nan, '1', '1', nan, '1', nan, '1', nan, nan, nan, nan, nan, '1', nan, nan, nan, nan, nan, nan, nan, nan, nan, '1', nan, nan, nan, nan, nan, nan, '2', nan, nan, nan, nan, nan, nan, nan, nan, nan, nan, '1', nan, nan, nan, nan, nan, nan, nan, nan, nan, nan, nan, nan, nan, nan, '1', nan, nan, nan, nan, nan, nan, nan, nan, nan, nan, nan, nan, nan, nan, nan, '1', nan, nan, '1', nan, nan, nan, nan, nan, nan, nan, nan, '1', nan, nan, nan, nan, '1', nan, nan, nan, nan, nan, '2', nan, nan, nan, nan, nan, nan, nan, nan, nan, nan, nan, nan, nan, nan, nan, nan, nan, nan, nan, nan, nan, nan, nan, nan, nan, nan, nan, nan, nan, nan, nan, nan, nan, nan, nan, nan, '1', nan, nan, nan, nan, nan, nan, nan, nan, nan, nan, nan, nan, nan, nan, nan, nan, nan, nan, nan, nan, nan, nan, nan, nan, nan, nan, nan, nan, nan, nan, nan, nan, nan, nan, nan, nan, nan, nan, nan, nan, nan, nan, nan, nan, nan, nan, nan, nan, nan, nan, nan, nan, nan, nan, nan, nan, nan, nan, nan, nan, nan, nan, '1', nan, nan, nan, nan, nan, nan, nan, nan, nan, '1', nan, nan, nan, nan, nan, nan, nan, nan, '2', '1', nan, nan, nan, nan, nan, nan, nan, nan, nan, nan, nan, nan, nan, '1', '1', nan, nan, nan, nan, nan, nan, '1', '1', nan, nan, nan, nan, nan, nan, nan, nan, nan, nan, nan, nan, nan, nan, '1', nan, nan, nan, nan, nan, nan, nan, nan, nan, nan, nan, nan, nan, nan, '1', nan, nan, nan, nan, nan, nan, nan, nan, nan, '1', nan, nan, nan, nan, nan, '1', nan, nan, nan, nan, nan, nan, nan, nan, nan, '1', '4', nan, nan, nan, nan, nan, nan, nan, nan, nan, '1', nan, nan, nan, nan, '1', nan, nan, nan, '1', nan, nan, nan, nan, nan, nan, nan, nan, nan, nan, nan, nan, nan, nan, nan, nan, nan, nan, nan, nan, nan, nan, nan, '1', nan, nan, '1', nan, nan, nan, '1', nan, '1', nan, nan, nan, nan, '1', nan, '1', nan, nan, nan, nan, nan, nan, '1', nan, nan, nan, '3', nan, nan, nan, nan, '1', nan, nan, nan, nan, nan, nan, nan, nan, nan, '1', '1', nan, nan, nan, '1', nan, nan, nan, nan, nan, nan, nan, nan, nan, nan, nan, nan, nan, nan, nan, nan, nan, nan, nan, nan, nan, nan, nan, nan, nan, nan, nan, nan, nan, nan, nan, '1', nan, nan, nan, nan, nan, nan, nan, nan, nan, '1', nan, nan, nan, nan, nan, nan, nan, nan, nan, '1', nan, nan, nan, nan, nan, nan, nan, nan, nan, nan, nan, nan, nan, nan, nan, nan, nan, nan, nan, nan, nan, nan, nan, nan, nan, nan, nan, nan, nan, nan, nan, nan, nan, nan, nan, nan, nan, nan, nan, nan, nan, nan, nan, nan, nan, nan, '10', nan, nan, nan, nan, nan, nan, '3', nan, nan, '1', '6', nan, nan, '3', nan, nan, nan, nan, '2', nan, nan, nan, nan, '1', nan, nan, nan, nan, nan, nan, nan, nan, nan, nan, nan, nan, nan, nan, nan, nan, '1', nan, '1', nan, nan, nan, nan, nan, nan, nan, nan, nan, nan, nan, nan, nan, nan, nan, nan, nan, nan, nan, nan, nan, nan, nan, nan, nan, nan, nan, nan, nan, nan, nan, nan, nan, nan, nan, nan, nan, nan, nan, nan, nan, nan, nan, nan, nan, nan, nan, nan, nan, nan, nan, nan, nan, nan, nan, nan, nan, nan, nan, nan, nan, nan, nan, nan, nan, nan, nan, nan, nan, nan, nan, nan, nan, nan, nan, nan, '1', nan, nan, nan, nan, nan, '1', nan, nan, nan, nan, nan, nan, nan, nan, nan, nan, nan, nan, nan, nan, nan, '4', nan, nan, nan, nan, nan, nan, nan, nan, nan, nan, nan, nan, nan, nan, nan, nan, nan, nan, nan, nan, nan, nan, nan, nan, nan, nan, nan, nan, nan, nan, nan, nan, nan, nan, nan, nan, nan, nan, nan, nan, nan, nan, nan, nan, nan, '1', nan, '1', nan, nan, nan, nan, nan, nan, nan, '1', nan, nan, '3', '1', '2', nan, nan, nan, nan, nan, nan, nan, nan, nan, nan, nan, nan, nan, nan, nan, nan, nan, nan, nan, nan, nan, nan, '1', nan, '1', nan, nan, nan, nan, nan, nan, '1', nan, nan, nan, nan, nan, nan, nan, '1', nan, '1', nan, nan, nan, nan, '1', nan, nan, nan, nan, nan, nan, nan, nan, nan, nan, '1', nan, nan, nan, nan, nan, nan, nan, nan, nan, nan, nan, nan, nan, nan, nan, nan, nan, nan, '1', '1', '3', nan, '1', nan, '1', nan, '1', nan, nan, nan, nan, '1', nan, nan, nan, nan, nan, nan, nan, nan, nan, nan, nan, nan, nan, nan, nan, nan, nan, nan, nan, nan, nan, nan, nan, nan, nan, nan, nan, nan, nan, nan, nan, nan, nan, nan, nan, nan, '1', nan, nan, nan, nan, nan, nan, nan, nan, nan, nan, nan, nan, nan, nan, nan, nan, nan, nan, nan, nan, nan, nan, nan, nan, nan, nan, '1', nan, nan, nan, nan, nan, nan, nan, nan, nan, nan, '1', nan, nan, nan, nan, nan, nan, nan, nan, nan, nan, nan, nan, nan, nan, nan, nan, nan, nan, nan, nan, nan, nan, nan, nan, nan, nan, nan, nan, nan, nan, nan, nan, nan, nan, nan, nan, nan, nan, nan, nan, '2', nan, nan, nan, nan, nan, nan, nan, nan, '2', nan, nan, nan, '7', nan, nan, nan, nan, nan, '1', nan, '1', nan, nan, nan, nan, nan, '1', nan, nan, nan, nan, nan, nan, '1', nan, nan, nan, nan, nan, nan, nan, nan, '4', '1', nan, '1', nan, nan, nan, nan, nan, nan, nan, nan, nan, nan, nan, nan, nan, nan, nan, nan, nan, nan, nan, '1', nan, nan, '1', nan, nan, nan, nan, nan, nan, nan, nan, nan, nan, nan, nan, nan, nan, nan, nan, nan, nan, nan, '1', nan, nan, nan, nan, nan, nan, '1', nan, nan, nan, nan, nan, nan, nan, nan, nan, nan, nan, nan, nan, '1', '1', nan, '1', nan, nan, nan, nan, nan, nan, nan, nan, nan, nan, nan, nan, nan, nan, nan, nan, nan, nan, nan, nan, nan, nan, nan, nan, '1', nan, nan, nan, nan, nan, nan, nan, nan, nan, nan, nan, nan, nan, nan, nan, nan, nan, '1', '2', nan, nan, nan, nan, nan, nan, '4', '1', '2', nan, '1', nan, nan, nan, nan, nan, '1', nan, nan, nan, '2', nan, nan, nan, '1', nan, nan, nan, nan, nan, nan, nan, nan, '1', nan, nan, nan, nan, '3', nan, nan, nan, '1', nan, nan, nan, nan, nan, '1', nan, nan, nan, nan, nan, nan, nan, '1', nan, nan, nan, nan, nan, nan, nan, nan, nan, nan, nan, nan, nan, nan, nan, nan, nan, nan, nan, nan, nan, nan, nan, '2', nan, nan, nan, nan, nan, nan, nan, nan, nan, '1', nan, nan, nan, nan, nan, nan, nan, nan, nan, '1', nan, nan, nan, nan, nan, nan, nan, nan, nan, '1', nan, '1', '1', '1', '1', '1', '2', '1', nan, nan, nan, nan, '2', nan, nan, nan, nan, nan, nan, '1', nan, nan, nan, nan, nan, nan, nan, nan, nan, nan, nan, nan, nan, nan, nan, nan, nan, nan, nan, nan, nan, nan, '1', nan, nan, nan, nan, nan, nan, nan, nan, nan, nan, nan, nan, nan, '1', nan, nan, nan, nan, nan, nan, nan, '2', '1', '1', nan, nan, nan, nan, nan, nan, nan, nan, '1', nan, nan, nan, nan, nan, nan, nan, nan, nan, nan, nan, nan, nan, nan, nan, nan, nan, nan, nan, nan, nan, '1', nan, nan, nan, nan, nan, nan, nan, nan, nan, nan, nan, nan, nan, nan, nan, nan, nan, nan, '1', nan, nan, nan, '1', '1', nan, nan, nan, nan, nan, nan, '1', nan, nan, '1', nan, nan, '2', '1', '1', '1', nan, nan, nan, nan, nan, nan, nan, nan, nan, nan, nan, nan, nan, nan, nan, '2', '1', nan, nan, nan, nan, nan, nan, nan, nan, nan, nan, nan, '1', nan, nan, '3', '1', nan, '1', '1', nan, nan, nan, nan, nan, nan, nan, nan, '1', nan, nan, nan, '1', '3', nan, '1', '1', nan, nan, nan, nan, '1', nan, '1', nan, nan, '3', nan, nan, '2', nan, nan, nan, nan, nan, nan, nan, nan, nan, nan, nan, '3', nan, nan, nan, '2', nan, nan, nan, nan, nan, nan, nan, nan, nan, '1', nan, nan, nan, nan, nan, nan, nan, nan, nan, nan, nan, nan, '1', nan, nan, nan, nan, nan, nan, nan, nan, nan, nan, nan, '1', nan, '1', nan, '3', nan, nan, nan, nan, '1', nan, nan, '2', nan, nan, nan, nan, nan, nan, nan, nan, nan, nan, nan, nan, nan, nan, '1', '1', nan, nan, nan, nan, nan, nan, nan, nan, nan, nan, nan, nan, nan, nan, nan, nan, nan, nan, nan, nan, nan, nan, nan, nan, nan, nan, nan, '4', nan, nan, nan, nan, nan, nan, nan, nan, nan, nan, nan, nan, nan, nan, nan, nan, nan, nan, nan, nan, nan, nan, nan, nan, nan, nan, nan, nan, nan, nan, nan, nan, nan, nan, nan, '1', nan, nan, nan, nan, nan, nan, nan, nan, nan, nan, nan, '1', nan, nan, nan, nan, nan, '1', nan, nan, nan, nan, nan, nan, nan, nan, nan, nan, nan, nan, nan, nan, nan, nan, nan, nan, nan, nan, nan, nan, nan, nan, nan, '1', nan, nan, nan, nan, nan, '2', nan, nan, nan, nan, nan, nan, nan, nan, nan, nan, nan, nan, nan, nan, nan, nan, '1', '1', nan, nan, nan, nan, nan, nan, nan, '1', nan, nan, nan, nan, nan, nan, nan, nan, nan, nan, nan, nan, nan, nan, nan, '4', nan, nan, nan, nan, nan, nan, nan, nan, nan, nan, nan, nan, nan, nan, nan, nan, nan, nan, nan, '1', '1', nan, nan, nan, nan, nan, nan, nan, nan, nan, nan, '1', '1', nan, nan, nan, nan, nan, '3', nan, '2', nan, nan, nan, nan, nan, nan, nan, nan, nan, nan, nan, nan, nan, nan, nan, nan, nan, nan, nan, nan, nan, nan, nan, nan, nan, nan, nan, nan, nan, nan, '1', nan, nan, nan, nan, nan, nan, nan, nan, '1', nan, nan, nan, nan, nan, '1', nan, '1', nan, '2', nan, nan, nan, nan, nan, nan, nan, nan, nan, nan, nan, nan, nan, nan, nan, nan, nan, nan, nan, '1', nan, nan, nan, nan, nan, nan, nan, nan, nan, nan, nan, nan, '2', nan, nan, nan, nan, nan, nan, nan, '1', nan, nan, nan, nan, nan, nan, nan, nan, nan, '1', nan, nan, nan, nan, nan, nan, nan, nan, '1', nan, nan, nan, nan, nan, nan, nan, nan, '1', nan, nan, nan, nan, nan, '4', nan, '1', nan, '8', '1', '1', nan, '5', nan, nan, nan, nan, nan, nan, nan, nan, nan, nan, nan, nan, nan, nan, nan, nan, nan, nan, nan, '2', nan, nan, nan, nan, nan, nan, nan, nan, nan, nan, '1', nan, nan, nan, nan, nan, nan, nan, nan, nan, nan, '1', nan, nan, nan, nan, nan, nan, '1', nan, nan, nan, nan, nan, nan, '1', nan, nan, nan, nan, '4', nan, nan, nan, nan, nan, nan, nan, nan, nan, '1', nan, nan, nan, nan, nan, nan, nan, nan, nan, nan, nan, '2', nan, nan, nan, nan, '1', nan, nan, nan, nan, nan, nan, nan, nan, nan, nan, '2', '2', nan, nan, nan, nan, nan, nan, nan, '1', nan, nan, nan, nan, nan, nan, nan, '1', nan, nan, nan, nan, '3', nan, nan, '4', nan, nan, nan, nan, nan, '1', nan, nan, nan, nan, nan, nan, nan, nan, nan, nan, nan, '1', nan, nan, nan, nan, nan, nan, nan, '1', nan, nan, nan, nan, nan, nan, nan, nan, nan, '1', nan, nan, nan, '1', nan, '1', nan, nan, nan, '1', nan, nan, nan, nan, nan, nan, nan, nan, nan, nan, nan, nan, nan, nan, nan, nan, nan, nan, nan, '2', nan, nan, nan, nan, nan, nan, nan, nan, nan, '1', nan, nan, nan, nan, nan, nan, '1', nan, nan, nan, nan, nan, nan, nan, nan, nan, nan, nan, nan, nan, nan, nan, nan, nan, nan, nan, nan, nan, nan, nan, nan, nan, nan, nan, nan, '1', nan, nan, nan, nan, nan, nan, nan, nan, nan, '1', nan, nan, nan, nan, nan, nan, nan, nan, nan, nan, nan, nan, nan, nan, nan, nan, nan, nan, nan, nan, '1', nan, nan, nan, nan, nan, nan, nan, nan, '2', nan, nan, nan, nan, nan, nan, nan, nan, nan, '4', nan, nan, nan, nan, '1', nan, nan, '2', '1', nan, nan, nan, nan, nan, nan, nan, '1', nan, nan, '1', nan, nan, nan, nan, nan, nan, '4', '3', nan, nan, nan, '1', nan, nan, nan, nan, nan, nan, nan, '1', nan, '1', nan, nan, nan, nan, nan, nan, nan, nan, '1', nan, nan, nan, nan, nan, nan, nan, nan, nan, nan, nan, nan, '3', nan, nan, nan, nan, nan, nan, nan, nan, nan, nan, nan, nan, nan, nan, nan, nan, nan, nan, nan, nan, nan, nan, '1', '1', '1', '1', nan, nan, nan, nan, nan, nan, '1', nan, nan, nan, nan, nan, nan, nan, nan, nan, nan, nan, '1', nan, nan, nan, nan, nan, nan, '1', nan, nan, nan, nan, nan, nan, nan, nan, nan, nan, nan, nan, nan, '1', nan, '1', nan, nan, '1', nan, nan, nan, nan, nan, nan, nan, nan, '1', nan, nan, nan, nan, nan, nan, nan, nan, nan, nan, nan, nan, nan, nan, nan, '1', nan, '1', nan, nan, nan, nan, '1', nan, nan, nan, '9', nan, nan, nan, nan, nan, nan, nan, nan, nan, nan, nan, nan, nan, nan, nan, nan, nan, nan, nan, nan, nan, nan, nan, nan, nan, nan, nan, nan, nan, nan, nan, nan, '1', '1', nan, nan, nan, nan, nan, nan, nan, nan, nan, '1', nan, nan, nan, nan, nan, nan, nan, '1', nan, nan, nan, nan, nan, nan, '4', nan, nan, nan, nan, nan, nan, '1', nan, nan, nan, nan, nan, nan, nan, nan, nan, nan, nan, nan, nan, nan, nan, nan, nan, nan, '1', nan, nan, nan, nan, nan, nan, nan, nan, '1', nan, nan, '3', nan, nan, nan, nan, nan, nan, nan, nan, nan, nan, nan, nan, nan, '2', nan, '2', nan, nan, nan, nan, nan, nan, '1', nan, nan, '1', nan, nan, nan, nan, nan, nan, nan, nan, nan, nan, nan, nan, nan, nan, nan, nan, nan, nan, nan, nan, nan, nan, nan, '1', nan, nan, nan, nan, nan, nan, nan, nan, nan, nan, nan, '1', nan, nan, nan, nan, nan, nan, nan, nan, nan, nan, '1', nan, nan, nan, nan, nan, nan, nan, '2', nan, nan, nan, nan, nan, nan, nan, nan, nan, nan, '1', nan, nan, nan, nan, '1', '3', nan, nan, nan, nan, nan, nan, nan, nan, nan, nan, nan, nan, nan, '1', nan, nan, nan, '1', nan, nan, nan, '1', nan, nan, nan, nan, '1', nan, '3', nan, nan, nan, nan, nan, nan, nan, nan, nan, '1', nan, nan, nan, nan, nan, '1', '1', nan, nan, nan, nan, nan, nan, nan, '1', nan, nan, nan, nan, nan, nan, nan, nan, nan, nan, nan, nan, nan, nan, nan, nan, nan, nan, '1', '1', nan, nan, nan, nan, nan, nan, '1', nan, nan, '1', nan, nan, nan, '1', nan, nan, nan, nan, nan, nan, '1', '1', '1', nan, nan, nan, nan, nan, nan, nan, nan, nan, '1', nan, nan, nan, nan, '1', '1', nan, nan, nan, nan, nan, nan, nan, nan, nan, nan, nan, nan, nan, nan, nan, nan, '1', nan, nan, nan, nan, '1', nan, nan, nan, '1', nan, nan, nan, nan, nan, nan, nan, nan, nan, nan, nan, nan, nan, nan, nan, '1', nan, nan, nan, nan, nan, nan, nan, nan, nan, nan, nan, nan, nan, nan, nan, nan, nan, nan, nan, nan, '1', nan, nan, nan, nan, nan, nan, nan, nan, '2', nan, nan, nan, nan, nan, nan, nan, nan, nan, nan, nan, nan, nan, '1', nan, '1', nan, nan, nan, '1', nan, nan, nan, nan, nan, nan, nan, nan, nan, nan, nan, nan, nan, nan, nan, nan, nan, nan, nan, nan, nan, '1', nan, nan, nan, nan, nan, nan, nan, nan, nan, nan, nan, nan, '1', nan, nan, nan, nan, nan, nan, nan, nan, nan, nan, nan, nan, nan, nan, '1', nan, nan, nan, '1', nan, nan, nan, nan, nan, nan, nan, nan, '8', nan, nan, nan, nan, nan, nan, nan, '1', nan, '1', nan, nan, nan, nan, nan, nan, nan, '1', nan, nan, nan, '1', nan, nan, nan, nan, '1', nan, nan, '1', nan, nan, nan, nan, nan, nan, nan, nan, '1', nan, nan, nan, nan, nan, nan, nan, nan, nan, nan, '4', nan, nan, nan, nan, nan, nan, nan, nan, nan, nan, nan, nan, nan, nan, nan, nan, nan, '1', nan, nan, nan, nan, nan, nan, nan, nan, nan, nan, nan, nan, nan, '2', '1', nan, nan, nan, '1', nan, nan, nan, nan, '1', nan, nan, nan, nan, nan, nan, nan, '1', '1', nan, nan, nan, nan, nan, nan, '2', nan, nan, nan, nan, nan, nan, nan, nan, nan, nan, nan, nan, nan, '1', nan, '1', nan, nan, nan, '1', '1', '1', '2', '1', '1', '1', nan, nan, nan, nan, nan, nan, '1', nan, '1', nan, nan, nan, nan, nan, nan, nan, nan, nan, nan, nan, nan, nan, nan, nan, nan, nan, nan, nan, '1', nan, nan, nan, nan, nan, '1', nan, nan, nan, nan, '1', nan, nan, nan, nan, nan, '1', nan, '1', nan, nan, nan, nan, nan, nan, nan, nan, nan, nan, nan, nan, nan, '1', nan, nan, nan, '1', nan, nan, nan, nan, nan, nan, nan, nan, '1', nan, nan, nan, nan, nan, nan, nan, nan, nan, nan, nan, nan, '3', '1', nan, nan, nan, nan, nan, nan, nan, nan, nan, nan, nan, nan, nan, nan, nan, nan, nan, nan, nan, nan, '7', '1', nan, nan, nan, nan, nan, nan, nan, nan, nan, nan, nan, nan, nan, nan, nan, '2', nan, nan, nan, nan, nan, nan, nan, nan, nan, nan, nan, nan, nan, nan, nan, nan, nan, nan, nan, nan, nan, nan, nan, nan, nan, nan, nan, nan, nan, nan, nan, nan, nan, nan, nan, nan, nan, nan, nan, nan, nan, nan, nan, nan, nan, nan, nan, nan, nan, nan, nan, nan, nan, nan, nan, nan, nan, '1', nan, nan, nan, nan, nan, nan, '1', nan, nan, nan, nan, nan, '2', nan, nan, nan, nan, nan, nan, nan, nan, nan, nan, nan, nan, nan, nan, nan, nan, nan, nan, nan, nan, nan, nan, nan, nan, nan, nan, nan, nan, nan, nan, nan, nan, nan, nan, nan, nan, nan, nan, '3', nan, nan, nan, nan, nan, nan, nan, nan, nan, nan, nan, nan, nan, nan, nan, nan, '2', nan, nan, nan, '1', nan, nan, nan, nan, nan, nan, nan, nan, nan, '5', nan, nan, nan, nan, '1', nan, nan, nan, nan, nan, nan, nan, nan, nan, nan, nan, nan, nan, nan, nan, '4', '2', nan, nan, nan, nan, nan, nan, nan, nan, nan, '1', nan, nan, nan, nan, nan, nan, nan, nan, nan, nan, nan, nan, nan, '1', nan, '3', '2', nan, nan, '1', nan, nan, nan, nan, nan, nan, nan, nan, nan, nan, nan, nan, nan, '2', '2', '2', '2', nan, nan, nan, nan, nan, nan, nan, nan, nan, nan, nan, nan, nan, nan, nan, nan, nan, nan, nan, nan, nan, nan, nan, nan, nan, nan, nan, nan, nan, '1', nan, nan, nan, nan, '1', nan, nan, nan, nan, nan, nan, nan, nan, '1', nan, nan, nan, '4', nan, nan, nan, nan, nan, nan, '1', nan, nan, nan, nan, nan, nan, nan, nan, nan, nan, nan, nan, nan, nan, '1', nan, nan, nan, nan, nan, nan, nan, nan, nan, nan, nan, nan, nan, nan, nan, nan, nan, nan, nan, nan, '1', nan, nan, nan, nan, nan, nan, nan, nan, nan, nan, nan, nan, nan, nan, nan, nan, nan, nan, nan, nan, nan, nan, nan, nan, nan, nan, nan, nan, nan, nan, nan, nan, nan, nan, nan, nan, nan, nan, nan, nan, nan, nan, nan, nan, nan, '2', nan, nan, nan, nan, nan, nan, nan, nan, nan, nan, nan, nan, nan, nan, nan, nan, nan, nan, nan, nan, nan, nan, nan, nan, nan, nan, nan, nan, nan, nan, nan, nan, nan, nan, nan, nan, nan, nan, nan, nan, '1', nan, nan, nan, nan, nan, nan, nan, nan, nan, nan, nan, nan, nan, nan, nan, nan, nan, nan, nan, nan, nan, nan, nan, nan, nan, nan, nan, nan, nan, nan, nan, nan, nan, '15', nan, nan, nan, nan, nan, nan, nan, nan, nan, nan, nan, nan, nan, nan, nan, nan, nan, nan, nan, nan, nan, nan, nan, nan, nan, nan, nan, nan, nan, nan, nan, nan, nan, nan, nan, nan, nan, nan, nan, nan, nan, nan, nan, nan, nan, nan, nan, nan, nan, nan, nan, '1', nan, nan, '1', nan, nan, nan, nan, nan, nan, nan, nan, nan, nan, nan, nan, nan, nan, nan, nan, nan, nan, nan, nan, '1', nan, nan, nan, nan, nan, nan, nan, nan, nan, nan, nan, nan, '1', nan, nan, nan, nan, nan, nan, nan, nan, nan, nan, nan, nan, nan, nan, nan, nan, nan, nan, nan, nan, nan, nan, nan, nan, nan, nan, nan, nan, nan, nan, nan, nan, nan, nan, nan, nan, nan, nan, nan, nan, nan, nan, nan, nan, nan, nan, nan, nan, nan, nan, nan, nan, nan, nan, nan, nan, nan, nan, nan, nan, '1', nan, nan, nan, nan, nan, nan, nan, nan, nan, '1', nan, nan, nan, nan, nan, nan, nan, nan, nan, nan, nan, nan, nan, nan, nan, nan, nan, nan, nan, nan, nan, nan, nan, nan, nan, nan, nan, nan, '2', nan, nan, nan, nan, nan, nan, nan, nan, nan, nan, nan, nan, nan, nan, nan, nan, nan, nan, nan, nan, nan, nan, nan, nan, nan, nan, nan, nan, nan, nan, nan, nan, nan, nan, nan, nan, nan, nan, nan, nan, nan, nan, nan, nan, nan, nan, nan, nan, nan, nan, nan, nan, nan, nan, nan, nan, nan, nan, nan, nan, nan, nan, '1', nan, nan, '1', nan, nan, nan, nan, nan, nan, nan, nan, nan, nan, nan, nan, nan, nan, nan, nan, nan, nan, nan, nan, nan, nan, nan, nan, nan, nan, nan, nan, nan, nan, nan, nan, nan, nan, nan, nan, nan, nan, nan, nan, nan, nan, nan, '1', nan, nan, nan, nan, nan, nan, nan, nan, nan, nan, nan, nan, nan, nan, nan, nan, nan, nan, nan, nan, nan, nan, nan, nan, nan, nan, nan, nan, nan, nan, nan, nan, nan, nan, nan, nan, nan, nan, nan, nan, nan, nan, nan, nan, '1', nan, nan, nan, nan, nan, '1', '1', nan, nan, nan, nan, nan, nan, nan, nan, nan, nan, nan, nan, nan, nan, '1', '1', nan, nan, nan, nan, nan, nan, nan, nan, '1', '1', nan, nan, nan, nan, '1', nan, nan, nan, nan, nan, nan, nan, nan, nan, nan, nan, nan, nan, nan, nan, nan, nan, nan, nan, '1', nan, nan, nan, '1', '1', nan, nan, nan, '1', '1', nan, nan, nan, nan, nan, '1', '3', nan, '1', nan, nan, '1', nan, nan, nan, nan, nan, nan, nan, nan, nan, '3', nan, '2', nan, nan, nan, nan, nan, nan, nan, nan, nan, nan, nan, nan, nan, nan, '1', nan, nan, '6', nan, nan, nan, nan, nan, '1', nan, nan, nan, nan, nan, nan, nan, nan, nan, '3', nan, '1', nan, nan, '1', nan, nan, nan, nan, nan, nan, nan, nan, nan, nan, nan, nan, nan, nan, nan, nan, nan, nan, nan, nan, nan, nan, nan, nan, '1', nan, nan, nan, nan, nan, nan, '5', nan, nan, nan, nan, nan, '1', nan, nan, nan, nan, nan, nan, nan, nan, nan, '1', nan, nan, nan, nan, nan, nan, nan, nan, nan, nan, nan, nan, nan, nan, '2', nan, nan, '1', nan, nan, '1', nan, nan, nan, nan, nan, nan, nan, nan, nan, nan, nan, nan, nan, nan, nan, nan, nan, nan, nan, nan, nan, nan, nan, nan, nan, nan, nan, nan, nan, nan, nan, nan, nan, nan, nan, nan, nan, nan, nan, nan, nan, nan, nan, nan, nan, nan, nan, '1', '1', nan, nan, nan, nan, nan, nan, nan, nan, nan, nan, nan, nan, nan, nan, nan, nan, nan, nan, nan, nan, nan, nan, nan, nan, nan, nan, nan, nan, '1', '1', nan, '7', nan, nan, nan, nan, '2', nan, nan, nan, nan, nan, nan, '1', '1', nan, '1', nan, nan, nan, nan, nan, nan, nan, nan, nan, nan, nan, '1', '1', '1', '1', '3', '1', nan, nan, '1', nan, nan, nan, nan, nan, nan, nan, '2', nan, nan, nan, nan, nan, '1', '1', nan, nan, nan, '1', nan, '1', '1', nan, nan, nan, nan, nan, '1', '2', '2', '2', '1', '2', nan, '1', nan, nan, nan, nan, nan, nan, nan, nan, nan, nan, nan, nan, nan, nan, nan, nan, nan, nan, nan, '1', nan, nan, nan, nan, nan, nan, nan, nan, nan, nan, nan, '2', nan, nan, nan, nan, '4', nan, nan, nan, nan, nan, nan, nan, nan, nan, '1', nan, nan, '5', nan, nan, nan, nan, nan, nan, nan, nan, nan, nan, nan, nan, nan, nan, nan, nan, nan, nan, nan, nan, nan, nan, '1', nan, nan, nan, nan, nan, nan, nan, nan, nan, nan, nan, '1', '1', '1', nan, nan, nan, nan, nan, nan, nan, '1', '1', nan, '1', nan, nan, nan, nan, nan, nan, '3', nan, nan, '1', '4', nan, '1', nan, nan, nan, '1', nan, '1', nan, nan, nan, nan, nan, '3', '2', nan, nan, nan, nan, nan, nan, nan, nan, nan, nan, nan, nan, '3', nan, '11', nan, nan, nan, nan, nan, nan, nan, nan, nan, nan, nan, nan, nan, nan, nan, nan, nan, nan, nan, nan, nan, nan, nan, nan, nan, nan, nan, nan, nan, nan, nan, nan, nan, nan, nan, '1', nan, nan, nan, '1', nan, nan, nan, nan, nan, nan, nan, nan, nan, nan, nan, nan, nan, nan, nan, nan, nan, nan, nan, nan, nan, nan, nan, nan, nan, '2', nan, nan, nan, nan, nan, '14', '1', '1', nan, nan, nan, '1', nan, nan, nan, nan, nan, '1', nan, nan, '1', '1', nan, '1', nan, '1', nan, nan, nan, '1', '1', nan, nan, '1', '1', '1', nan, nan, '1', nan, nan, nan, '1', '1', nan, nan, '1', nan, nan, nan, '1', '1', nan, nan, nan, nan, nan, nan, nan, '1', nan, nan, nan, '1', nan, nan, nan, '1', nan, nan, nan, nan, nan, nan, '1', nan, nan, nan, nan, nan, nan, nan, nan, nan, '2', nan, nan, nan, nan, nan, nan, nan, nan, nan, nan, nan, nan, nan, nan, nan, nan, nan, '1', nan, nan, nan, nan, nan, '2', nan, nan, '1', nan, nan, nan, nan, nan, nan, nan, nan, nan, nan, nan, '1', nan, nan, nan, nan, nan, nan, nan, nan, '1', nan, nan, nan, nan, nan, nan, nan, nan, nan, nan, nan, nan, nan, nan, nan, nan, nan, nan, nan, nan, nan, nan, '1', '1', nan, nan, nan, nan, nan, nan, nan, nan, nan, nan, nan, nan, nan, '1', nan, nan, nan, nan, nan, nan, nan, nan, nan, nan, nan, nan, nan, nan, nan, nan, nan, nan, '1', '1', nan, nan, nan, nan, nan, nan, nan, '2', nan, nan, nan, nan, nan, nan, nan, '1', nan, nan, nan, '1', nan, nan, nan, nan, nan, nan, nan, nan, nan, nan, '1', nan, nan, nan, nan, nan, nan, nan, nan, nan, '1', nan, nan, nan, nan, nan, nan, nan, nan, nan, nan, nan, nan, nan, nan, nan, nan, nan, nan, nan, nan, nan, nan, nan, '1', nan, nan, nan, nan, nan, nan, nan, nan, nan, nan, nan, nan, '1', nan, nan, nan, nan, nan, nan, nan, nan, nan, nan, nan, nan, nan, nan, nan, nan, nan, nan, nan, nan, nan, nan, nan, nan, nan, nan, nan, nan, nan, nan, nan, nan, nan, nan, nan, nan, nan, nan, nan, '7', nan, nan, nan, nan, nan, nan, nan, nan, nan, nan, nan, nan, nan, nan, '2', nan, '2', nan, nan, nan, nan, nan, nan, '2', nan, nan, nan, nan, nan, nan, nan, nan, nan, nan, nan, nan, nan, '1', nan, nan, '10', nan, nan, nan, nan, nan, nan, nan, nan, nan, nan, nan, nan, nan, nan, nan, nan, '4', nan, nan, '1', nan, nan, nan, '1', nan, '1', nan, nan, nan, nan, nan, nan, '1', nan, nan, nan, nan, nan, nan, nan, '4', nan, nan, nan, nan, nan, '2', nan, nan, '3', nan, nan, nan, nan, nan, nan, nan, nan, nan, nan, nan, nan, nan, nan, nan, nan, nan, nan, nan, nan, nan, '11', nan, nan, nan, nan, nan, nan, nan, '3', nan, nan, nan, nan, nan, nan, nan, nan, nan, nan, '1', nan, nan, nan, '2', nan, nan, nan, nan, nan, nan, nan, nan, nan, nan, '1', nan, nan, nan, nan, nan, nan, nan, nan, nan, nan, nan, nan, nan, nan, nan, nan, nan, nan, nan, '1', '1', nan, nan, nan, nan, nan, nan, nan, nan, nan, nan, nan, nan, nan, nan, nan, nan, nan, nan, nan, nan, nan, nan, nan, nan, nan, nan, '1', nan, '1', nan, nan, nan, nan, nan, nan, '1', '1', '1', nan, nan, nan, '1', nan, nan, nan, nan, nan, nan, nan, nan, nan, nan, nan, nan, nan, nan, nan, nan, nan, '5', nan, '1', '3', nan, nan, nan, nan, nan, nan, nan, nan, nan, nan, nan, nan, nan, nan, nan, nan, nan, '2', nan, '1', nan, nan, nan, nan, nan, '2', nan, nan, nan, nan, nan, '1', nan, nan, '2', nan, nan, nan, nan, nan, nan, nan, nan, nan, nan, nan, nan, nan, nan, nan, nan, nan, nan, nan, nan, nan, nan, nan, nan, nan, nan, nan, nan, nan, nan, nan, nan, nan, nan, '1', nan, nan, '3', nan, '1', nan, nan, nan, nan, nan, nan, nan, nan, nan, nan, nan, nan, nan, nan, nan, nan, nan, nan, nan, nan, nan, nan, nan, nan, nan, nan, nan, nan, nan, nan, nan, nan, nan, nan, nan, nan, nan, nan, '1', nan, nan, nan, nan, nan, nan, '1', nan, nan, '12', nan, '1', nan, nan, nan, nan, '2', nan, nan, '1', nan, '5', nan, nan, nan, '1', nan, nan, nan, '1', nan, nan, nan, nan, nan, '3', nan, nan, '4', nan, '1', nan]\n"
          ]
        }
      ]
    },
    {
      "cell_type": "code",
      "source": [
        "df.insert(10,'min',min)\n",
        "df.insert(11,'season',season)\n",
        "print(df.head(20))"
      ],
      "metadata": {
        "colab": {
          "base_uri": "https://localhost:8080/"
        },
        "id": "1Enaj-XBSp3o",
        "outputId": "37a0cd7f-6179-4519-9b76-cacf43a99e97"
      },
      "execution_count": 274,
      "outputs": [
        {
          "output_type": "stream",
          "name": "stdout",
          "text": [
            "   show_id     type                              title  \\\n",
            "0       s1    Movie                The Grand Seduction   \n",
            "1       s2    Movie               Take Care Good Night   \n",
            "2       s3    Movie               Secrets of Deception   \n",
            "3       s4    Movie                 Pink: Staying True   \n",
            "4       s5    Movie                      Monster Maker   \n",
            "5       s6    Movie              Living With Dinosaurs   \n",
            "6       s7    Movie                          Hired Gun   \n",
            "7       s8    Movie                       Grease Live!   \n",
            "8       s9    Movie                    Global Meltdown   \n",
            "9      s10    Movie                     David's Mother   \n",
            "10     s11    Movie                     Forest Fairies   \n",
            "11     s12    Movie                          Take Care   \n",
            "12     s13    Movie           The Night Eats The World   \n",
            "13     s14    Movie                         Resilencia   \n",
            "14     s15    Movie  Elon Musk: The Real Life Iron Man   \n",
            "15     s16    Movie                         Summer '03   \n",
            "16     s17    Movie                           Zoombies   \n",
            "17     s18  TV Show                         Zoo Babies   \n",
            "18     s19  TV Show      Zoë Coombs Marr: Bossy Bottom   \n",
            "19     s20    Movie                                Zoe   \n",
            "\n",
            "                       director  \\\n",
            "0                  Don McKellar   \n",
            "1                  Girish Joshi   \n",
            "2                   Josh Webber   \n",
            "3                Sonia Anderson   \n",
            "4                  Giles Foster   \n",
            "5                  Paul Weiland   \n",
            "6                   Fran Strine   \n",
            "7   Thomas Kail, Alex Rudzinski   \n",
            "8                 Daniel Gilboy   \n",
            "9         Robert Allan Ackerman   \n",
            "10               Justin G. Dyck   \n",
            "11                 Liz Tuccillo   \n",
            "12             Dominique Rocher   \n",
            "13                Jep Barcelona   \n",
            "14               Sonia Anderson   \n",
            "15                Becca Gleason   \n",
            "16                 Glenn Miller   \n",
            "17                          NaN   \n",
            "18                          NaN   \n",
            "19                Drake Doremus   \n",
            "\n",
            "                                                 cast         country  \\\n",
            "0      Brendan Gleeson, Taylor Kitsch, Gordon Pinsent          Canada   \n",
            "1    Mahesh Manjrekar, Abhay Mahajan, Sachin Khedekar           India   \n",
            "2   Tom Sizemore, Lorenzo Lamas, Robert LaSardo, R...   United States   \n",
            "3   Interviews with: Pink, Adele, Beyoncé, Britney...   United States   \n",
            "4   Harry Dean Stanton, Kieran O'Brien, George Cos...  United Kingdom   \n",
            "5   Gregory Chisholm, Juliet Stevenson, Brian Hens...  United Kingdom   \n",
            "6   Alice Cooper, Liberty DeVitto, Ray Parker Jr.,...   United States   \n",
            "7   Julianne Hough, Aaron Tveit, Vanessa Hudgens, ...   United States   \n",
            "8   Michael Paré, Leanne Khol Young, Patrick J. Ma...          Canada   \n",
            "9     Kirstie Alley, Sam Waterston, Stockard Channing   United States   \n",
            "10  Emily Wilder, Adrian Cowan, Gary Mckenzie, Jer...          Canada   \n",
            "11            Leslie Bibb, Kevin Curtis, Nadia Dajani   United States   \n",
            "12  Anders Danielsen Lie, Golshifteh Farahani, Den...          France   \n",
            "13  Rafinha Alcantara, Marc-André Ter Stegen, Serg...           Spain   \n",
            "14  Elon Musk, Per Wimmer, Julie Anderson-Ankenbra...  United Kingdom   \n",
            "15  Joey King, Jack Kilmer, Andrea Savage, Paul Sc...   United States   \n",
            "16         Marcus Anderson, Kaiwi Lyman, Andrew Asper             NaN   \n",
            "17                         Narrator - Gillian Barlett             NaN   \n",
            "18                                    Zoë Coombs Marr             NaN   \n",
            "19  Ewan McGregor, Léa Seydoux, Theo James, Mirand...             NaN   \n",
            "\n",
            "        date_added  release_year rating  duration  min season  \\\n",
            "0   March 30, 2021          2014    NaN   113 min  113    NaN   \n",
            "1   March 30, 2021          2018    13+   110 min  110    NaN   \n",
            "2   March 30, 2021          2017    NaN    74 min   74    NaN   \n",
            "3   March 30, 2021          2014    NaN    69 min   69    NaN   \n",
            "4   March 30, 2021          1989    NaN    45 min   45    NaN   \n",
            "5   March 30, 2021          1989    NaN    52 min   52    NaN   \n",
            "6   March 30, 2021          2017    NaN    98 min   98    NaN   \n",
            "7   March 30, 2021          2016    NaN   131 min  131    NaN   \n",
            "8   March 30, 2021          2017    NaN    87 min   87    NaN   \n",
            "9    April 1, 2021          1994    NaN    92 min   92    NaN   \n",
            "10   April 4, 2021          2016    NaN    88 min   88    NaN   \n",
            "11  April 10, 2021          2014    NaN    93 min   93    NaN   \n",
            "12  April 17, 2021          2018    NaN    94 min   94    NaN   \n",
            "13  April 24, 2021          2020    NaN    46 min   46    NaN   \n",
            "14     May 2, 2021          2018    NaN    74 min   74    NaN   \n",
            "15    June 3, 2021          2019    NaN    96 min   96    NaN   \n",
            "16             NaN          2016    13+    87 min   87    NaN   \n",
            "17             NaN          2008    ALL  1 Season  NaN      1   \n",
            "18             NaN          2020    18+  1 Season  NaN      1   \n",
            "19             NaN          2018      R   104 min  104    NaN   \n",
            "\n",
            "                            listed_in  \\\n",
            "0                       Comedy, Drama   \n",
            "1                Drama, International   \n",
            "2             Action, Drama, Suspense   \n",
            "3                         Documentary   \n",
            "4                      Drama, Fantasy   \n",
            "5                       Fantasy, Kids   \n",
            "6       Documentary, Special Interest   \n",
            "7                              Comedy   \n",
            "8   Action, Science Fiction, Suspense   \n",
            "9                               Drama   \n",
            "10                    Adventure, Kids   \n",
            "11                             Comedy   \n",
            "12                   Horror, Suspense   \n",
            "13                Documentary, Sports   \n",
            "14                        Documentary   \n",
            "15                      Comedy, Drama   \n",
            "16            Horror, Science Fiction   \n",
            "17             Kids, Special Interest   \n",
            "18      Comedy, Talk Show and Variety   \n",
            "19                    Science Fiction   \n",
            "\n",
            "                                          description  \n",
            "0   A small fishing village must procure a local d...  \n",
            "1   A Metro Family decides to fight a Cyber Crimin...  \n",
            "2   After a man discovers his wife is cheating on ...  \n",
            "3   Pink breaks the mold once again, bringing her ...  \n",
            "4   Teenage Matt Banting wants to work with a famo...  \n",
            "5   The story unfolds in a an English seaside town...  \n",
            "6   They are the \"First Call, A-list\" musicians, j...  \n",
            "7   This honest, uncompromising comedy chronicles ...  \n",
            "8   A helicopter pilot and an environmental scient...  \n",
            "9   Sally Goodson is a devoted mother to her autis...  \n",
            "10  Amanda stumbles upon a hidden village of fairi...  \n",
            "11  When a car crash leaves Frannie immobilized, s...  \n",
            "12  After waking up in an apartment the night afte...  \n",
            "13  The documentary follows the midfielder’s every...  \n",
            "14  Discover the meteoric rise of Elon Musk, the m...  \n",
            "15  Summer '03 is the hilarious story of 16-year-o...  \n",
            "16  When a strange virus quickly spreads through a...  \n",
            "17  A heart warming and inspiring series that welc...  \n",
            "18  Zoë Coombs Marr has been on hiatus. Sort of. F...  \n",
            "19  ZOE tells a tale of forbidden love between an ...  \n"
          ]
        }
      ]
    },
    {
      "cell_type": "markdown",
      "source": [
        "# 2.duplicates"
      ],
      "metadata": {
        "id": "0nBI4ERCGYRN"
      }
    },
    {
      "cell_type": "markdown",
      "source": [
        "data tidak ada yang diduplicat (title maupun show id)"
      ],
      "metadata": {
        "id": "1a4Urq6iIP2e"
      }
    },
    {
      "cell_type": "code",
      "source": [
        "for col in df.columns:\n",
        "  print(col)\n",
        "  print(df[col].value_counts())"
      ],
      "metadata": {
        "colab": {
          "base_uri": "https://localhost:8080/"
        },
        "id": "TNJy30TJGcDy",
        "outputId": "9e1aa009-f18b-4605-ca13-08d3017ec25e"
      },
      "execution_count": 275,
      "outputs": [
        {
          "output_type": "stream",
          "name": "stdout",
          "text": [
            "show_id\n",
            "s1       1\n",
            "s6441    1\n",
            "s6443    1\n",
            "s6444    1\n",
            "s6445    1\n",
            "        ..\n",
            "s3223    1\n",
            "s3224    1\n",
            "s3225    1\n",
            "s3226    1\n",
            "s9668    1\n",
            "Name: show_id, Length: 9668, dtype: int64\n",
            "type\n",
            "Movie      7814\n",
            "TV Show    1854\n",
            "Name: type, dtype: int64\n",
            "title\n",
            "The Grand Seduction                     1\n",
            "Under The Smoky Roof                    1\n",
            "The Shadows                             1\n",
            "The Porter Brothers                     1\n",
            "The Intimidation Game                   1\n",
            "                                       ..\n",
            "Army Mystery                            1\n",
            "Armed Girl's Machiavellism              1\n",
            "Aries Spears: Comedy Blueprint          1\n",
            "Are They Here? UFOs Caught on Camera    1\n",
            "Harry Brown                             1\n",
            "Name: title, Length: 9668, dtype: int64\n",
            "director\n",
            "Mark Knight              113\n",
            "Cannis Holder             61\n",
            "Moonbug Entertainment     37\n",
            "Jay Chapman               34\n",
            "Arthur van Merwijk        30\n",
            "                        ... \n",
            "Andrew Traucki             1\n",
            "Karyn Kusama               1\n",
            "K. Subash                  1\n",
            "Robert Cuffley             1\n",
            "Steve Barker               1\n",
            "Name: director, Length: 5774, dtype: int64\n",
            "cast\n",
            "Maggie Binkley                                                                                                                                                                    56\n",
            "1                                                                                                                                                                                 34\n",
            "Anne-Marie Newland                                                                                                                                                                24\n",
            "Cassandra Peterson                                                                                                                                                                21\n",
            "Grace Tamayo, Erin Webbs                                                                                                                                                          17\n",
            "                                                                                                                                                                                  ..\n",
            "Robert Redford, Jane Fonda, Charles Boyer, Mildred Natwick, Herb Edelman                                                                                                           1\n",
            "Paul Reubens, Stephanie Hodge, Valeria Golino, Kris Kristofferson, Penelope Ann Miller, Susan Tyrrell, Albert Henderson, Terrence Mann, Jack Murdock, David Byrd, Mary Jackson     1\n",
            "Lorena Segura York, Garrett Westton, Bill Engvall, Bethany Peterson, Dariush A. Moslemi                                                                                            1\n",
            "Toni Collette, Parker Posey, Lisa Kudrow                                                                                                                                           1\n",
            "Michael Caine, Emily Mortimer, Joseph Gilgun, Sean Harris                                                                                                                          1\n",
            "Name: cast, Length: 7927, dtype: int64\n",
            "country\n",
            "United States                            253\n",
            "India                                    229\n",
            "United Kingdom                            28\n",
            "Canada                                    16\n",
            "United Kingdom, United States             12\n",
            "                                        ... \n",
            "United States, Germany, Brazil, Italy      1\n",
            "South Africa                               1\n",
            "Australia, United States, Germany          1\n",
            "Germany, Austria, United States            1\n",
            "Italy, Spain                               1\n",
            "Name: country, Length: 86, dtype: int64\n",
            "date_added\n",
            "March 30, 2021        14\n",
            "August 27, 2021        6\n",
            "June 11, 2021          4\n",
            "October 2, 2021        4\n",
            "September 26, 2021     4\n",
            "                      ..\n",
            "July 27, 2021          1\n",
            "April 26, 2021         1\n",
            "August 14, 2021        1\n",
            "August 15, 2021        1\n",
            "July 20, 2021          1\n",
            "Name: date_added, Length: 84, dtype: int64\n",
            "release_year\n",
            "2021    1442\n",
            "2020     962\n",
            "2019     929\n",
            "2018     623\n",
            "2017     562\n",
            "        ... \n",
            "1922       2\n",
            "1926       2\n",
            "1924       1\n",
            "1923       1\n",
            "1927       1\n",
            "Name: release_year, Length: 100, dtype: int64\n",
            "rating\n",
            "13+         2117\n",
            "16+         1547\n",
            "ALL         1268\n",
            "18+         1243\n",
            "R           1010\n",
            "PG-13        393\n",
            "7+           385\n",
            "PG           253\n",
            "NR           223\n",
            "TV-14        208\n",
            "TV-PG        169\n",
            "TV-NR        105\n",
            "G             93\n",
            "TV-G          81\n",
            "TV-MA         77\n",
            "TV-Y          74\n",
            "TV-Y7         39\n",
            "UNRATED       33\n",
            "NC-17          3\n",
            "AGES_18_       3\n",
            "NOT_RATE       3\n",
            "AGES_16_       2\n",
            "16             1\n",
            "ALL_AGES       1\n",
            "Name: rating, dtype: int64\n",
            "duration\n",
            "1 Season      1342\n",
            "2 Seasons      229\n",
            "90 min         223\n",
            "91 min         220\n",
            "92 min         203\n",
            "              ... \n",
            "21 Seasons       1\n",
            "485 min          1\n",
            "550 min          1\n",
            "181 min          1\n",
            "191 min          1\n",
            "Name: duration, Length: 219, dtype: int64\n",
            "min\n",
            "90     223\n",
            "91     220\n",
            "92     203\n",
            "89     195\n",
            "88     188\n",
            "      ... \n",
            "209      1\n",
            "192      1\n",
            "207      1\n",
            "269      1\n",
            "191      1\n",
            "Name: min, Length: 202, dtype: int64\n",
            "season\n",
            "1     1342\n",
            "2      229\n",
            "3      110\n",
            "4       62\n",
            "5       39\n",
            "6       23\n",
            "7       15\n",
            "8       10\n",
            "9        6\n",
            "10       5\n",
            "11       3\n",
            "14       3\n",
            "12       3\n",
            "29       1\n",
            "21       1\n",
            "19       1\n",
            "15       1\n",
            "Name: season, dtype: int64\n",
            "listed_in\n",
            "Drama                                                                            986\n",
            "Comedy                                                                           536\n",
            "Drama, Suspense                                                                  399\n",
            "Comedy, Drama                                                                    377\n",
            "Animation, Kids                                                                  356\n",
            "                                                                                ... \n",
            "Arts, Entertainment, and Culture, Music Videos and Concerts, Special Interest      1\n",
            "Arts, Entertainment, and Culture, Comedy, Military and War                         1\n",
            "Comedy, Faith and Spirituality, Kids                                               1\n",
            "Arts, Entertainment, and Culture, Fantasy, Kids                                    1\n",
            "Anime, Comedy, Drama                                                               1\n",
            "Name: listed_in, Length: 518, dtype: int64\n",
            "description\n",
            "Arpo was designed as a commando robot, built as a fierce fighting machine. But, with world peace achieved Arpo has been re-equipped for caregiving, re-coded for cuddling, and officially reassigned as a nanny robot! Arpo helps children age 4-8 build an understanding of non-verbal communication like body language and facial expressions. Enjoy Arpo's hilarious, slapstick funny cartoons for kids!    15\n",
            "1                                                                                                                                                                                                                                                                                                                                                                                                              15\n",
            "A new collection of colorful and wonderfully engaging nursery rhymes and children's songs that will thrill your child while educating them in their numbers, ABCs and general learning! From the creators of LittleBabyBum, KiiYii allows the child's imagination to go further!                                                                                                                               12\n",
            "T-Rex Ranch brings you another awesome fun-packed collection of Jurassic dinosaur videos ! Watch your favorite park rangers get into all sorts of wonderful adventures, coming across lots of scary dinosaurs, awesome toys and much more!                                                                                                                                                                     10\n",
            "Morphle can morph into anything his human companion Mila wants. From dinosaurs to cars, and animals like cats, dogs and lions! Your kids will love this fun, and educational videos for kids! They will learn colors, shapes, numbers, the alphabet, and more! Sing along to some of the classic nursery rhymes, original songs or watch these educational cartoons that your kids will surely enjoy!           9\n",
            "                                                                                                                                                                                                                                                                                                                                                                                                               ..\n",
            "Based on true events surrounding the aftermath of a shooting at an Amish school in Pennsylvania. Through the eyes of the devastated families, the film explores the Amish community's astonishing reaction to the horrific shootings - one of forgiveness and compassion.                                                                                                                                       1\n",
            "American Takedown showcases highly specialized tactical law enforcement units across the U.S. that protect and serve against some of the most cunning and dangerous criminals in the country.                                                                                                                                                                                                                   1\n",
            "H.H. Holmes was America's first serial killer believed to have killed nearly 200 people in the late 19th century.                                                                                                                                                                                                                                                                                               1\n",
            "American Restoration follows five of the best restoration shops in the United States as they not only restore pieces of America's history, but create new and awe-inspiring works from vintage items.                                                                                                                                                                                                           1\n",
            "Harry Brown, starring two-time Academy Award winner Michael Caine, follows one man's journey through a chaotic world where teenage violence runs rampant. As a modest, law abiding citizen, Brown lives alone. His only companion is his best friend Leonard. When Leonard is killed, Brown reaches his breaking point. Harry Brown is a powerful, character driven thriller.                                   1\n",
            "Name: description, Length: 9414, dtype: int64\n"
          ]
        }
      ]
    },
    {
      "cell_type": "markdown",
      "source": [
        "# 3. Data kosong"
      ],
      "metadata": {
        "id": "kuC431W4IXxK"
      }
    },
    {
      "cell_type": "code",
      "source": [
        "df.info()"
      ],
      "metadata": {
        "colab": {
          "base_uri": "https://localhost:8080/"
        },
        "id": "i7owOtZK8GCW",
        "outputId": "2a54e0a7-f681-4f68-fd97-23eea2b965a2"
      },
      "execution_count": 282,
      "outputs": [
        {
          "output_type": "stream",
          "name": "stdout",
          "text": [
            "<class 'pandas.core.frame.DataFrame'>\n",
            "RangeIndex: 9668 entries, 0 to 9667\n",
            "Data columns (total 14 columns):\n",
            " #   Column        Non-Null Count  Dtype \n",
            "---  ------        --------------  ----- \n",
            " 0   show_id       9668 non-null   object\n",
            " 1   type          9668 non-null   object\n",
            " 2   title         9668 non-null   object\n",
            " 3   director      7586 non-null   object\n",
            " 4   cast          8435 non-null   object\n",
            " 5   country       672 non-null    object\n",
            " 6   date_added    155 non-null    object\n",
            " 7   release_year  9668 non-null   int64 \n",
            " 8   rating        9331 non-null   object\n",
            " 9   duration      9668 non-null   object\n",
            " 10  min           7814 non-null   object\n",
            " 11  season        1854 non-null   object\n",
            " 12  listed_in     9668 non-null   object\n",
            " 13  description   9668 non-null   object\n",
            "dtypes: int64(1), object(13)\n",
            "memory usage: 1.0+ MB\n"
          ]
        }
      ]
    },
    {
      "cell_type": "code",
      "source": [
        "df.isna().sum()"
      ],
      "metadata": {
        "colab": {
          "base_uri": "https://localhost:8080/"
        },
        "id": "lN4nFLVjI21Q",
        "outputId": "c720b837-f3a8-43fd-a11e-df9f265387ab"
      },
      "execution_count": 276,
      "outputs": [
        {
          "output_type": "execute_result",
          "data": {
            "text/plain": [
              "show_id            0\n",
              "type               0\n",
              "title              0\n",
              "director        2082\n",
              "cast            1233\n",
              "country         8996\n",
              "date_added      9513\n",
              "release_year       0\n",
              "rating           337\n",
              "duration           0\n",
              "min             1854\n",
              "season          7814\n",
              "listed_in          0\n",
              "description        0\n",
              "dtype: int64"
            ]
          },
          "metadata": {},
          "execution_count": 276
        }
      ]
    },
    {
      "cell_type": "code",
      "source": [
        "df1=df.dropna(subset=['rating','director'])\n",
        "df1.isna().sum()"
      ],
      "metadata": {
        "colab": {
          "base_uri": "https://localhost:8080/"
        },
        "id": "SRSMlGGSJkld",
        "outputId": "6d97de04-ab52-4080-dd2e-f585212d1615"
      },
      "execution_count": 277,
      "outputs": [
        {
          "output_type": "execute_result",
          "data": {
            "text/plain": [
              "show_id            0\n",
              "type               0\n",
              "title              0\n",
              "director           0\n",
              "cast             610\n",
              "country         6702\n",
              "date_added      7255\n",
              "release_year       0\n",
              "rating             0\n",
              "duration           0\n",
              "min                0\n",
              "season          7256\n",
              "listed_in          0\n",
              "description        0\n",
              "dtype: int64"
            ]
          },
          "metadata": {},
          "execution_count": 277
        }
      ]
    },
    {
      "cell_type": "code",
      "source": [
        "df1.info()"
      ],
      "metadata": {
        "colab": {
          "base_uri": "https://localhost:8080/"
        },
        "id": "xiD6cvExJ_nY",
        "outputId": "6b448767-d7d2-4e76-ec77-7b7783545e24"
      },
      "execution_count": 278,
      "outputs": [
        {
          "output_type": "stream",
          "name": "stdout",
          "text": [
            "<class 'pandas.core.frame.DataFrame'>\n",
            "Int64Index: 7256 entries, 1 to 9667\n",
            "Data columns (total 14 columns):\n",
            " #   Column        Non-Null Count  Dtype \n",
            "---  ------        --------------  ----- \n",
            " 0   show_id       7256 non-null   object\n",
            " 1   type          7256 non-null   object\n",
            " 2   title         7256 non-null   object\n",
            " 3   director      7256 non-null   object\n",
            " 4   cast          6646 non-null   object\n",
            " 5   country       554 non-null    object\n",
            " 6   date_added    1 non-null      object\n",
            " 7   release_year  7256 non-null   int64 \n",
            " 8   rating        7256 non-null   object\n",
            " 9   duration      7256 non-null   object\n",
            " 10  min           7256 non-null   object\n",
            " 11  season        0 non-null      object\n",
            " 12  listed_in     7256 non-null   object\n",
            " 13  description   7256 non-null   object\n",
            "dtypes: int64(1), object(13)\n",
            "memory usage: 850.3+ KB\n"
          ]
        }
      ]
    },
    {
      "cell_type": "markdown",
      "source": [
        "pada analisa kali ini memerlukan metric director dan rating sehingga kedua kolom tersebut disarankan tidak ada yang kosong\n",
        "\n",
        "sehingga kolom berkurang dari 9668 menjadi 7256"
      ],
      "metadata": {
        "id": "929gkEheJz_X"
      }
    },
    {
      "cell_type": "markdown",
      "source": [
        "# Analysis --> What most popular Genres?"
      ],
      "metadata": {
        "id": "oEZ1ALV1aOoa"
      }
    },
    {
      "cell_type": "code",
      "source": [
        "#make genre sparepartly\n",
        "genre1= []\n",
        "genre2= []\n",
        "genre3= []\n",
        "genre4= []\n",
        "genre5= []\n",
        "genre6= []\n",
        "\n",
        "for row in df1[\"listed_in\"]:\n",
        "    x=row.split(\",\")\n",
        "    n_element= len(x)\n",
        "    if n_element == 6:\n",
        "        genre6.append(x[5])\n",
        "        genre5.append(x[4])\n",
        "        genre4.append(x[3])\n",
        "        genre3.append(x[2])\n",
        "        genre2.append(x[1])\n",
        "        genre1.append(x[0])\n",
        "    if n_element == 5:\n",
        "        genre6.append(np.nan)\n",
        "        genre5.append(x[4])\n",
        "        genre4.append(x[3])\n",
        "        genre3.append(x[2])\n",
        "        genre2.append(x[1])\n",
        "        genre1.append(x[0])\n",
        "    elif n_element == 4:\n",
        "        genre6.append(np.nan)\n",
        "        genre5.append(np.nan)\n",
        "        genre4.append(x[3])\n",
        "        genre3.append(x[2])\n",
        "        genre2.append(x[1])\n",
        "        genre1.append(x[0])\n",
        "    elif n_element == 3:\n",
        "        genre6.append(np.nan)\n",
        "        genre5.append(np.nan)\n",
        "        genre4.append(np.nan)\n",
        "        genre3.append(x[2])\n",
        "        genre2.append(x[1])\n",
        "        genre1.append(x[0])\n",
        "    elif n_element == 2:\n",
        "        genre6.append(np.nan)\n",
        "        genre5.append(np.nan)\n",
        "        genre4.append(np.nan)\n",
        "        genre3.append(np.nan)\n",
        "        genre2.append(x[1])\n",
        "        genre1.append(x[0])\n",
        "    elif n_element == 1:\n",
        "        genre6.append(np.nan)\n",
        "        genre5.append(np.nan)\n",
        "        genre4.append(np.nan)\n",
        "        genre3.append(np.nan)\n",
        "        genre2.append(np.nan)\n",
        "        genre1.append(x[0])\n",
        "    else :\n",
        "        genre6.append(np.nan)\n",
        "        genre5.append(np.nan)\n",
        "        genre4.append(np.nan)\n",
        "        genre3.append(np.nan)\n",
        "        genre2.append(np.nan)\n",
        "        genre1.append(np.nan)\n",
        "\n",
        "print(\"done\")\n",
        "\n",
        "df1.insert(14,\"genre_1\",genre1)\n",
        "df1.insert(15,\"genre_2\",genre2)\n",
        "df1.insert(16,\"genre_3\",genre3)\n",
        "df1.insert(17,\"genre_4\",genre4)\n",
        "df1.insert(18,\"genre_5\",genre5)\n",
        "df1.insert(19,\"genre_6\",genre6)\n",
        "\n",
        "genres=df1.drop(columns='listed_in')\n",
        "\n",
        "print(\"done\")\n",
        "print(genres)"
      ],
      "metadata": {
        "colab": {
          "base_uri": "https://localhost:8080/"
        },
        "id": "vxKWUbu6aVzq",
        "outputId": "40a984b6-763f-489c-aab6-8922f5814078"
      },
      "execution_count": 279,
      "outputs": [
        {
          "output_type": "stream",
          "name": "stdout",
          "text": [
            "done\n",
            "done\n",
            "     show_id   type                 title  \\\n",
            "1         s2  Movie  Take Care Good Night   \n",
            "16       s17  Movie              Zoombies   \n",
            "19       s20  Movie                   Zoe   \n",
            "22       s23  Movie          Zis Boom Bah   \n",
            "24       s25  Movie              Zandalee   \n",
            "...      ...    ...                   ...   \n",
            "9660   s9661  Movie    The Man in the Hat   \n",
            "9662   s9663  Movie                 River   \n",
            "9663   s9664  Movie   Pride Of The Bowery   \n",
            "9665   s9666  Movie               Outpost   \n",
            "9667   s9668  Movie           Harry Brown   \n",
            "\n",
            "                                 director  \\\n",
            "1                            Girish Joshi   \n",
            "16                           Glenn Miller   \n",
            "19                          Drake Doremus   \n",
            "22                           William Nigh   \n",
            "24                          Sam Pillsbury   \n",
            "...                                   ...   \n",
            "9660  John-Paul Davidson, Stephen Warbeck   \n",
            "9662                           Emily Skye   \n",
            "9663                      Joseph H. Lewis   \n",
            "9665                         Steve Barker   \n",
            "9667                        Daniel Barber   \n",
            "\n",
            "                                                   cast country  \\\n",
            "1      Mahesh Manjrekar, Abhay Mahajan, Sachin Khedekar   India   \n",
            "16           Marcus Anderson, Kaiwi Lyman, Andrew Asper     NaN   \n",
            "19    Ewan McGregor, Léa Seydoux, Theo James, Mirand...     NaN   \n",
            "22                              Grace Hayes, Mary Healy     NaN   \n",
            "24    Nicolas Cage, Judge Reinhold, Erika Anderson, ...     NaN   \n",
            "...                                                 ...     ...   \n",
            "9660             Ciaran Hinds, Stephen Dillane, Maïwenn     NaN   \n",
            "9662  Mary Cameron Rogers, Alexandra Rose, Rob Marsh...     NaN   \n",
            "9663                           Leo Gorcey, Bobby Jordan     NaN   \n",
            "9665  Ray Stevenson, Julian Wadham, Richard Brake, M...     NaN   \n",
            "9667  Michael Caine, Emily Mortimer, Joseph Gilgun, ...     NaN   \n",
            "\n",
            "          date_added  release_year rating duration  min season  \\\n",
            "1     March 30, 2021          2018    13+  110 min  110    NaN   \n",
            "16               NaN          2016    13+   87 min   87    NaN   \n",
            "19               NaN          2018      R  104 min  104    NaN   \n",
            "22               NaN          1941     NR   62 min   62    NaN   \n",
            "24               NaN          1991      R   94 min   94    NaN   \n",
            "...              ...           ...    ...      ...  ...    ...   \n",
            "9660             NaN          2021    13+   96 min   96    NaN   \n",
            "9662             NaN          2021    16+   93 min   93    NaN   \n",
            "9663             NaN          1940     7+   60 min   60    NaN   \n",
            "9665             NaN          2008      R   90 min   90    NaN   \n",
            "9667             NaN          2010      R  103 min  103    NaN   \n",
            "\n",
            "                                            description          genre_1  \\\n",
            "1     A Metro Family decides to fight a Cyber Crimin...            Drama   \n",
            "16    When a strange virus quickly spreads through a...           Horror   \n",
            "19    ZOE tells a tale of forbidden love between an ...  Science Fiction   \n",
            "22    \"Hey, kids, let's get together and put on a sh...             Arts   \n",
            "24    Zandalee has grown bored with her poet-turned-...            Drama   \n",
            "...                                                 ...              ...   \n",
            "9660  The Man in the Hat journeys through France in ...           Comedy   \n",
            "9662  River is a grounded Sci-Fi mystery Thriller, t...            Drama   \n",
            "9663  New York City street principles get an East Si...           Comedy   \n",
            "9665  In war-torn Eastern Europe, a world-weary grou...           Action   \n",
            "9667  Harry Brown, starring two-time Academy Award w...           Action   \n",
            "\n",
            "               genre_2       genre_3  genre_4 genre_5  genre_6  \n",
            "1        International           NaN      NaN     NaN      NaN  \n",
            "16     Science Fiction           NaN      NaN     NaN      NaN  \n",
            "19                 NaN           NaN      NaN     NaN      NaN  \n",
            "22       Entertainment   and Culture   Comedy   Drama      NaN  \n",
            "24                 NaN           NaN      NaN     NaN      NaN  \n",
            "...                ...           ...      ...     ...      ...  \n",
            "9660               NaN           NaN      NaN     NaN      NaN  \n",
            "9662   Science Fiction      Suspense      NaN     NaN      NaN  \n",
            "9663               NaN           NaN      NaN     NaN      NaN  \n",
            "9665               NaN           NaN      NaN     NaN      NaN  \n",
            "9667             Drama      Suspense      NaN     NaN      NaN  \n",
            "\n",
            "[7256 rows x 19 columns]\n"
          ]
        }
      ]
    },
    {
      "cell_type": "code",
      "source": [
        "genre1= genres.groupby('genre_1',as_index=False)['title'].count()\n",
        "genre1.columns=['genre','total movie']\n",
        "genre1=genre1.set_index('genre')\n",
        "\n",
        "\n",
        "genre2= genres.groupby('genre_2',as_index=False)['title'].count()\n",
        "genre2.columns=['genre','total movie']\n",
        "genre2=genre2.set_index('genre')\n",
        "\n",
        "\n",
        "genre3= genres.groupby('genre_3',as_index=False)['title'].count()\n",
        "genre3.columns=['genre','total movie']\n",
        "genre3=genre3.set_index('genre')\n",
        "\n",
        "genre4= genres.groupby('genre_4',as_index=False)['title'].count()\n",
        "genre4.columns=['genre','total movie']\n",
        "genre4=genre4.set_index('genre')\n",
        "\n",
        "genre5= genres.groupby('genre_5',as_index=False)['title'].count()\n",
        "genre5.columns=['genre','total movie']\n",
        "genre5=genre5.set_index('genre')\n",
        "\n",
        "genres=[genre1,genre2,genre3,genre4,genre5]\n",
        "result=pd.concat(genres)\n",
        "total_genre = result.groupby('genre')['total movie'].sum().reset_index()\n",
        "total_genre=total_genre.sort_values('total movie',ascending=False)\n",
        "print(total_genre.head(5))\n",
        "\n",
        "genreplot=sns.barplot(data=total_genre.head(5), x='genre',y='total movie')\n",
        "genreplot.set(xlabel='Type genre', ylabel='Total Movie', title='Top 5 Most Popular Genres')\n",
        "sns.color_palette('pastel')\n",
        "plt.xticks(rotation=60)\n",
        "plt.show()"
      ],
      "metadata": {
        "colab": {
          "base_uri": "https://localhost:8080/",
          "height": 444
        },
        "id": "0p4aE7f_dsNz",
        "outputId": "4a5cd089-eee2-4869-a3b4-4ad9ccd75e69"
      },
      "execution_count": 280,
      "outputs": [
        {
          "output_type": "stream",
          "name": "stdout",
          "text": [
            "        genre  total movie\n",
            "36      Drama         1847\n",
            "28     Action         1457\n",
            "7       Drama         1248\n",
            "34     Comedy         1206\n",
            "22   Suspense         1133\n"
          ]
        },
        {
          "output_type": "display_data",
          "data": {
            "text/plain": [
              "<Figure size 432x288 with 1 Axes>"
            ],
            "image/png": "[encoded data removed]"
          },
          "metadata": {
            "needs_background": "light"
          }
        }
      ]
    },
    {
      "cell_type": "code",
      "source": [
        "df1.to_csv('movie_final.csv',index=False)"
      ],
      "metadata": {
        "id": "P9rechQVf6j1"
      },
      "execution_count": 281,
      "outputs": []
    }
  ]
}